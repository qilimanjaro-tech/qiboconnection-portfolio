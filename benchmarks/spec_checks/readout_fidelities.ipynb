{
 "cells": [
  {
   "cell_type": "markdown",
   "metadata": {},
   "source": [
    "# Compute the readout fidelity of all qubits"
   ]
  },
  {
   "cell_type": "code",
   "execution_count": 3,
   "metadata": {},
   "outputs": [],
   "source": [
    "import numpy as np\n",
    "from qibo.gates import M, X\n",
    "from qibo.models import Circuit\n",
    "from qiboconnection.api import API\n",
    "from qiboconnection.connection import ConnectionConfiguration\n",
    "\n",
    "api = API(ConnectionConfiguration(username=\"qat\", api_key=\"meow\"))\n",
    "\n",
    "api.select_device_id(9)"
   ]
  },
  {
   "cell_type": "markdown",
   "metadata": {},
   "source": [
    "We first generate and queue the circuits we need to execute:"
   ]
  },
  {
   "cell_type": "code",
   "execution_count": 4,
   "metadata": {},
   "outputs": [],
   "source": [
    "NSHOTS = 2000  # 1000"
   ]
  },
  {
   "cell_type": "code",
   "execution_count": 5,
   "metadata": {},
   "outputs": [
    {
     "name": "stdout",
     "output_type": "stream",
     "text": [
      "The id of the executed job is: 9608\n"
     ]
    }
   ],
   "source": [
    "circuits = []\n",
    "qubits = np.arange(5)\n",
    "for qubit in qubits:\n",
    "    circuit0 = Circuit(5)\n",
    "    circuit0.add(M(qubit))\n",
    "\n",
    "    circuit1 = Circuit(5)\n",
    "    circuit1.add(X(qubit))\n",
    "    circuit1.add(M(qubit))\n",
    "\n",
    "    circuits.extend([circuit0, circuit1])\n",
    "\n",
    "result_id = api.execute(circuits, nshots=NSHOTS)[0]\n",
    "\n",
    "print(f\"The id of the executed job is: {result_id}\")"
   ]
  },
  {
   "cell_type": "markdown",
   "metadata": {},
   "source": [
    "Once the jobs have been executed, we can use the cell below to compute the readout fidelities:"
   ]
  },
  {
   "cell_type": "code",
   "execution_count": 7,
   "metadata": {},
   "outputs": [
    {
     "name": "stderr",
     "output_type": "stream",
     "text": [
      "Your job with id 9608 is still pending. Job queue position: 3\n"
     ]
    }
   ],
   "source": [
    "results = api.get_result(result_id)"
   ]
  },
  {
   "cell_type": "code",
   "execution_count": 11,
   "metadata": {},
   "outputs": [
    {
     "name": "stdout",
     "output_type": "stream",
     "text": [
      "### QUBIT: 0 ###\n",
      "Ground state: {'probabilities': {'0': 0.867, '1': 0.133}}\n",
      "Excited state: {'probabilities': {'0': 0.143, '1': 0.857}}\n",
      "Fidelity 0.862\n",
      "### QUBIT: 1 ###\n",
      "Ground state: {'probabilities': {'0': 0.871, '1': 0.129}}\n",
      "Excited state: {'probabilities': {'0': 0.2465, '1': 0.7535}}\n",
      "Fidelity 0.81225\n",
      "### QUBIT: 2 ###\n",
      "Ground state: {'probabilities': {'0': 0.883, '1': 0.117}}\n",
      "Excited state: {'probabilities': {'0': 0.1595, '1': 0.8405}}\n",
      "Fidelity 0.86175\n",
      "### QUBIT: 3 ###\n",
      "Ground state: {'probabilities': {'0': 0.88, '1': 0.12}}\n",
      "Excited state: {'probabilities': {'0': 0.1495, '1': 0.8505}}\n",
      "Fidelity 0.8652500000000001\n",
      "### QUBIT: 4 ###\n",
      "Ground state: {'probabilities': {'0': 0.916, '1': 0.084}}\n",
      "Excited state: {'probabilities': {'0': 0.1365, '1': 0.8635}}\n",
      "Fidelity 0.88975\n"
     ]
    }
   ],
   "source": [
    "for qubit_idx in qubits:\n",
    "    # We take the pair of results that correspond to the specific qubit\n",
    "    results0 = results[qubit_idx * 2]\n",
    "    results1 = results[qubit_idx * 2 + 1]\n",
    "\n",
    "    clf_0 = (1 - results0[\"probabilities\"][\"0\"] + results0[\"probabilities\"][\"1\"]) / 2\n",
    "    clf_1 = (1 - results1[\"probabilities\"][\"0\"] + results1[\"probabilities\"][\"1\"]) / 2\n",
    "    fid_avg = (1 - clf_0 + clf_1) / 2\n",
    "    print(f\"### QUBIT: {qubit_idx} ###\")\n",
    "    print(f\"Ground state: {results0}\")\n",
    "    print(f\"Excited state: {results1}\")\n",
    "    print(\"Fidelity\", fid_avg)"
   ]
  }
 ],
 "metadata": {
  "kernelspec": {
   "display_name": "Python 3",
   "language": "python",
   "name": "python3"
  },
  "language_info": {
   "codemirror_mode": {
    "name": "ipython",
    "version": 3
   },
   "file_extension": ".py",
   "mimetype": "text/x-python",
   "name": "python",
   "nbconvert_exporter": "python",
   "pygments_lexer": "ipython3",
   "version": "3.10.13"
  }
 },
 "nbformat": 4,
 "nbformat_minor": 2
}
