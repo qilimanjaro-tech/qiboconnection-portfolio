{
 "cells": [
  {
   "cell_type": "code",
   "execution_count": null,
   "metadata": {},
   "outputs": [],
   "source": [
    "import numpy as np\n",
    "import qililab as ql\n",
    "\n",
    "from utils.qst_qpt_helper_functions import *\n",
    "\n",
    "from qiboconnection.api import API\n",
    "from qiboconnection.connection import ConnectionConfiguration\n",
    "\n",
    "import os\n",
    "\n",
    "import matplotlib.pyplot as plt\n",
    "\n",
    "from scipy.optimize import curve_fit\n",
    "\n",
    "\n",
    "api = API(ConnectionConfiguration(username=\"qat\", api_key=\"meow\"))\n",
    "\n",
    "\n",
    "api.select_device_id(9)"
   ]
  },
  {
   "cell_type": "markdown",
   "metadata": {},
   "source": [
    "Is setting the logger perhaps a bit ugly for remote users to have to do manually? I have not seen any experiment where it is preferred to not be set to a higher level"
   ]
  },
  {
   "cell_type": "code",
   "execution_count": null,
   "metadata": {},
   "outputs": [],
   "source": [
    "ql.logger.setLevel(40)  # Set qililab's logger to a higher level so it only shows error messages"
   ]
  },
  {
   "cell_type": "code",
   "execution_count": null,
   "metadata": {},
   "outputs": [],
   "source": [
    "# Amplitude set in Qblox terms (0.5 times mV)\n",
    "Time_START = 0\n",
    "Time_STOP = 200000\n",
    "Time_STEP = 2000\n",
    "\n",
    "SQUARE_duration = 4000\n",
    "GAUSS_duration = 2000\n",
    "\n",
    "NSHOTS = 2000"
   ]
  },
  {
   "cell_type": "code",
   "execution_count": null,
   "metadata": {},
   "outputs": [],
   "source": [
    "# The shape of the pulses is introduced here\n",
    "gauss_wf = ql.Gaussian(amplitude=0.5, duration=GAUSS_duration, num_sigmas=4.0)  # Drag pulse executing pi/2 rotation\n",
    "square_wf = ql.Square(amplitude=1, duration=SQUARE_duration)  # square wavefront (readout pulse)\n",
    "weights_shape = ql.Square(amplitude=1, duration=SQUARE_duration)  # This shape implies that the weights are uniform"
   ]
  },
  {
   "cell_type": "markdown",
   "metadata": {},
   "source": [
    "# Clarify when we need to add sync()"
   ]
  },
  {
   "cell_type": "code",
   "execution_count": null,
   "metadata": {},
   "outputs": [],
   "source": [
    "# Building the Qprogram\n",
    "qp_t2 = ql.QProgram()\n",
    "\n",
    "# Defining the variable Frequency for the driving pulse\n",
    "wait_time = qp_t2.variable(ql.Domain.Time)  # Possible domains: Scalar, Time, Frequency, Phase and Voltage\n",
    "\n",
    "# Averaging over NSHOTS iterations\n",
    "with qp_t2.average(NSHOTS):\n",
    "    # Loop over all wait times\n",
    "    with qp_t2.for_loop(variable=wait_time, start=Time_START, stop=Time_STOP, step=Time_STEP):\n",
    "        qp_t2.play(bus=\"drive_q0_bus\", waveform=gauss_wf)  # execute the pi pulse\n",
    "        qp_t2.wait(bus=\"drive_q0_bus\", duration=wait_time)  # wait\n",
    "\n",
    "        qp_t2.sync()  # so that the next bus (for the readout) executes after the previous (drive)\n",
    "\n",
    "        # READOUT PULSE\n",
    "        qp_t2.play(bus=\"readout_q0_bus\", waveform=square_wf, wait_time=4)  ## execute readout pulse\n",
    "        qp_t2.acquire(\n",
    "            bus=\"readout_q0_bus\", weights=ql.IQPair(I=weights_shape, Q=weights_shape)\n",
    "        )  # Collect data from readout\n",
    "\n",
    "full_qprogram = qp_t2.to_dict()"
   ]
  },
  {
   "cell_type": "code",
   "execution_count": null,
   "metadata": {},
   "outputs": [],
   "source": [
    "Wait_duration_list = np.arange(Time_START, Time_STOP, Time_STEP)"
   ]
  },
  {
   "cell_type": "code",
   "execution_count": null,
   "metadata": {},
   "outputs": [],
   "source": [
    "result_id = api.execute(full_qprogram)[0]\n",
    "print(result_id)"
   ]
  },
  {
   "cell_type": "code",
   "execution_count": null,
   "metadata": {},
   "outputs": [],
   "source": [
    "results = api.get_result(result_id)\n",
    "data_probabilities = process_returned_dataformat(results, nqubits=1)"
   ]
  },
  {
   "cell_type": "code",
   "execution_count": null,
   "metadata": {},
   "outputs": [],
   "source": [
    "def ramsey_fit(xdata: np.ndarray, amplitude: float, rate: float, offset: float, frequency: float, phase: float) -> np.ndarray:  # type: ignore  # pylint: disable=arguments-differ\n",
    "    \"\"\"Exponential model function.\n",
    "\n",
    "    It must take the independent variable as the first argument and the parameters to fit as separate remaining\n",
    "    arguments.\n",
    "\n",
    "    Args:\n",
    "        xdata (ndarray): data of the x-axis\n",
    "        amplitude (float): amplitude of the exponential function\n",
    "        rate (float): rate of growth or decay\n",
    "        frequency (float): frequency of Ramsey oscillations\n",
    "        phase (float): phase offset of the cosine. Should be 0 for the gs T2 and np.pi/2 for the 1exc.\n",
    "        offset (float): offset. Sould be 0.5.\n",
    "    \"\"\"\n",
    "    return amplitude * np.exp(rate * xdata) * np.cos(xdata * frequency + phase) + offset\n",
    "\n",
    "\n",
    "def ramsey_fit_gs_simple(xdata: np.ndarray, rate: float, frequency: float) -> np.ndarray:  # type: ignore  # pylint: disable=arguments-differ\n",
    "    \"\"\"Exponential model function.\n",
    "\n",
    "    It must take the independent variable as the first argument and the parameters to fit as separate remaining\n",
    "    arguments.\n",
    "\n",
    "    Args:\n",
    "        xdata (ndarray): data of the x-axis\n",
    "        rate (float): rate of growth or decay\n",
    "        frequency (float): frequency of Ramsey oscillations\n",
    "    \"\"\"\n",
    "    return 1 * np.exp(rate * xdata) * np.cos(xdata * frequency) + 0.5"
   ]
  },
  {
   "cell_type": "markdown",
   "metadata": {},
   "source": [
    "## Not finished yet"
   ]
  },
  {
   "cell_type": "code",
   "execution_count": null,
   "metadata": {},
   "outputs": [],
   "source": [
    "probabilities_gs = data_probabilities[:, 0]\n",
    "\n",
    "\n",
    "fit_up2 = -1\n",
    "coeffs_fit = np.polyfit(Wait_duration_list[:fit_up2], np.log10(probabilities_gs[:fit_up2]), 1)\n",
    "poly1d_fn = np.poly1d(coeffs_fit)  # poly1d_fn is now a function which takes in x and returns an estimate for y\n",
    "exponent = coeffs_fit[0]\n",
    "T2 = -1 / exponent\n",
    "\n",
    "# Plot the data and the fitted function\n",
    "plt.figure(figsize=(8, 6))\n",
    "plt.plot(Wait_duration_list, np.log10(probabilities_gs), label=\"data\")\n",
    "plt.plot(Wait_duration_list, poly1d_fn(Wait_duration_list), \"r\", label=f\"Fitted T1={T2/1000:.3f} us\")\n",
    "plt.legend()\n",
    "plt.xlabel(\"Wait time (ns)\")\n",
    "plt.ylabel(\"Prob($|1\\\\rangle$)\")"
   ]
  }
 ],
 "metadata": {
  "kernelspec": {
   "display_name": "alphatesting",
   "language": "python",
   "name": "python3"
  },
  "language_info": {
   "name": "python",
   "version": "3.10.13"
  }
 },
 "nbformat": 4,
 "nbformat_minor": 2
}
