{
 "cells": [
  {
   "cell_type": "code",

   "execution_count": 1,
   "metadata": {},
   "outputs": [
    {
     "name": "stdout",
     "output_type": "stream",
     "text": [
      "2024-03-11 19:33:14,847 - qm - INFO     - Starting session: 9a794a14-d5ac-4c1c-b748-87cf5916d6c2\n"
     ]
    }
   ],
   "source": [
    "import numpy as np\n",
    "import qililab as ql\n",
    "\n",
    "from qiboconnection.api import API\n",
    "from qiboconnection.connection import ConnectionConfiguration\n",
    "\n",
    "from qililab.utils import from_dict\n",
    "from scipy.optimize import curve_fit\n",
    "\n",
    "import matplotlib.pyplot as plt\n",
    "\n",
    "\n",
    "api = API(ConnectionConfiguration(username=\"qat\", api_key=\"meow\"))\n",
    "\n",
    "\n",
    "api.select_device_id(9)\n",
    "ql.logger.setLevel(40)  # Set qililab's logger to a higher level so it only shows error messages"
   ]
  },
  {
   "cell_type": "code",
   "execution_count": 16,
   "metadata": {},
   "outputs": [],
   "source": [
    "# Qubit to run the experiment on\n",
    "QUBIT = 4"
   ]
  },
  {
   "cell_type": "code",
   "execution_count": 3,
   "metadata": {},
   "outputs": [],
   "source": [
    "runcard = api.get_runcard(runcard_name=\"galadriel_qprogram\")\n",
    "runcard_as_dict = runcard.runcard\n",
    "\n",
    "RO_duration_runcard = runcard_as_dict[\"gates_settings\"][\"gates\"][f\"M({QUBIT})\"][0][\"pulse\"][\"duration\"]\n",
    "RO_amplitude_runcard = runcard_as_dict[\"gates_settings\"][\"gates\"][f\"M({QUBIT})\"][0][\"pulse\"][\"amplitude\"]\n",
    "X_duration_runcard = runcard_as_dict[\"gates_settings\"][\"gates\"][f\"Drag({QUBIT})\"][0][\"pulse\"][\"duration\"]\n",
    "X_num_sigmas_runcard = runcard_as_dict[\"gates_settings\"][\"gates\"][f\"Drag({QUBIT})\"][0][\"pulse\"][\"shape\"][\"num_sigmas\"]\n",
    "X_drag_coefficient_runcard = runcard_as_dict[\"gates_settings\"][\"gates\"][f\"Drag({QUBIT})\"][0][\"pulse\"][\"shape\"][\n",
    "    \"drag_coefficient\"\n",
    "]\n",
    "X_amplitude_runcard = runcard_as_dict[\"gates_settings\"][\"gates\"][f\"Drag({QUBIT})\"][0][\"pulse\"][\"amplitude\"]"
   ]
  },
  {
   "cell_type": "code",
   "execution_count": 14,
   "metadata": {},
   "outputs": [
    {
     "data": {
      "text/plain": [
       "0.24641175677808694"
      ]
     },
     "execution_count": 14,
     "metadata": {},
     "output_type": "execute_result"
    }
   ],
   "source": [
    "X_amplitude_runcard"
   ]
  },
  {
   "cell_type": "markdown",
   "metadata": {},
   "source": [
    "# Rabi in amplitude"
   ]
  },
  {
   "cell_type": "markdown",
   "metadata": {},
   "source": [
    "### Parameter definition"
   ]
  },
  {
   "cell_type": "code",
   "execution_count": 4,
   "metadata": {},
   "outputs": [],
   "source": [
    "AMP_START = 0\n",
    "AMP_STOP = 0.5\n",
    "AMP_STEP = 0.001\n",
    "\n",
    "NSHOTS = 1000\n",
    "\n",
    "RO_DUR = RO_duration_runcard\n",
    "RO_AMP = RO_amplitude_runcard\n",
    "DRIVE_DUR = X_duration_runcard\n",
    "DRIVE_SIGMAS = X_num_sigmas_runcard\n",
    "DRIVE_DRAG_COEFF = X_drag_coefficient_runcard\n",
    "time_of_flight = 120\n",
    "relax_duration = 200_000"
   ]
  },
  {
   "cell_type": "markdown",
   "metadata": {},
   "source": [
    "### QProgram definition"
   ]
  },
  {
   "cell_type": "code",
   "execution_count": 5,
   "metadata": {},
   "outputs": [],
   "source": [
    "def Rabi_in_amplitude(\n",
    "    qubit,\n",
    "    amp_start,\n",
    "    amp_stop,\n",
    "    amp_step,\n",
    "    averages,\n",
    "    r_gain,\n",
    "    r_duration,\n",
    "    d_duration,\n",
    "    d_sigmas,\n",
    "    d_drag_coeff,\n",
    "    relax_duration=200_000,\n",
    "    time_of_flight=120,\n",
    "):\n",
    "\n",
    "    readout_waveform = ql.Square(amplitude=r_gain, duration=r_duration)  # square wavefront\n",
    "    measure_weights = ql.Square(amplitude=1, duration=r_duration)\n",
    "    drive_waveform = ql.IQPair.DRAG(\n",
    "        amplitude=1,  ## will be modified within the qprogram\n",
    "        duration=d_duration,\n",
    "        num_sigmas=d_sigmas,\n",
    "        drag_coefficient=d_drag_coeff,\n",
    "    )\n",
    "\n",
    "    qp_rabi = ql.QProgram()\n",
    "\n",
    "    # Defining the variable Amplitude for the driving pulse\n",
    "    amp = qp_rabi.variable(ql.Domain.Voltage)  # Possible domains: Scalar, Time, Frequency, Phase and Voltage\n",
    "\n",
    "    # Averaging\n",
    "    with qp_rabi.average(averages):\n",
    "        # Loop over all amplitudes\n",
    "        with qp_rabi.for_loop(variable=amp, start=amp_start, stop=amp_stop, step=amp_step):  # Shift in Hz\n",
    "            # AMPLITUDE DEPENDENT DRAG PULSE\n",
    "            qp_rabi.set_gain(bus=f\"drive_q{qubit}_bus\", gain=amp)  # adjusting the amplitude through gain\n",
    "            qp_rabi.play(\n",
    "                bus=f\"drive_q{qubit}_bus\", waveform=drive_waveform\n",
    "            )  # executing the DRAG pulse for the Rabi sequence\n",
    "\n",
    "            qp_rabi.sync()  # adding the sync implies that the next bus (for the readout) will execute after the previous (drive)\n",
    "\n",
    "            # READOUT PULSE\n",
    "            qp_rabi.play(bus=f\"readout_q{qubit}_bus\", waveform=readout_waveform, wait_time=time_of_flight)\n",
    "            qp_rabi.acquire(\n",
    "                bus=f\"readout_q{qubit}_bus\", weights=ql.IQPair(I=measure_weights, Q=measure_weights)\n",
    "            )  # readout\n",
    "            qp_rabi.wait(bus=f\"readout_q{qubit}_bus\", duration=relax_duration)  # Qubit relaxation wait\n",
    "    return qp_rabi"
   ]
  },
  {
   "cell_type": "code",
   "execution_count": 6,
   "metadata": {},
   "outputs": [],
   "source": [
    "amplitude = np.arange(AMP_START, AMP_STOP + AMP_STEP / 2, AMP_STEP)\n",
    "qprogram_amplitude = Rabi_in_amplitude(\n",
    "    QUBIT,\n",
    "    AMP_START,\n",
    "    AMP_STOP,\n",
    "    AMP_STEP,\n",
    "    NSHOTS,\n",
    "    RO_AMP,\n",
    "    RO_DUR,\n",
    "    DRIVE_DUR,\n",
    "    DRIVE_SIGMAS,\n",
    "    DRIVE_DRAG_COEFF,\n",
    "    time_of_flight=time_of_flight,\n",
    "    relax_duration=relax_duration,\n",
    ")"
   ]
  },
  {
   "cell_type": "markdown",
   "metadata": {},
   "source": [
    "### Experiment execution"
   ]
  },
  {
   "cell_type": "code",
   "execution_count": 7,
   "metadata": {},
   "outputs": [
    {
     "name": "stderr",
     "output_type": "stream",
     "text": [
      "{\n",
      "  \"title\": \"Unauthorized\",\n",
      "  \"status\": 401,\n",
      "  \"detail\": \"JWTExpired: Error verifying the authorisation access token. Expired at 1710256179, time: 1710256367(leeway: 60) 401 Client Error:  for url: https://qilimanjaroqaas.ddns.net:8080/api/v1/circuits\"\n",
      "}\n",
      "{\"title\":\"Unauthorized\",\"status\":401,\"detail\":\"JWTExpired: Error verifying the authorisation access token. Expired at 1710256179, time: 1710256367(leeway: 60)\"}\n",
      "\n"
     ]
    },
    {
     "name": "stdout",
     "output_type": "stream",
     "text": [
      "9724\n"
     ]
    }
   ],
   "source": [
    "result_id = api.execute(qprogram=qprogram_amplitude.to_dict(), name=\"rabi amplitude\")[0]\n",
    "print(result_id)"
   ]
  },
  {
   "cell_type": "markdown",
   "metadata": {},
   "source": [
    "###  De-serialising results and post-processing"
   ]
  },
  {
   "cell_type": "code",
   "execution_count": 10,
   "metadata": {},
   "outputs": [
    {
     "name": "stderr",
     "output_type": "stream",
     "text": [
      "Your job with id 9724 is completed.\n"
     ]
    }
   ],
   "source": [
    "results_amp = api.get_result(result_id)\n",
    "qprogram_results_amp = from_dict(results_amp)"
   ]
  },
  {
   "cell_type": "code",
   "execution_count": 18,
   "metadata": {},
   "outputs": [],
   "source": [
    "def dB(I, Q, RESONATOR_LO=7e9, RESONATOR_IF=40.7e6, delay=265e-9):\n",
    "    S21 = I + 1j * Q\n",
    "    S21 = S21 * np.exp(2 * np.pi * 1j * (RESONATOR_LO + RESONATOR_IF) * delay)\n",
    "    return 20 * np.log10(np.abs(S21))\n",
    "\n",
    "\n",
    "data = qprogram_results_amp\n",
    "i_vec, q_vec = data.results[f\"readout_q{QUBIT}_bus\"][0].array\n",

    "s21_vec = dB(i_vec, q_vec)"
   ]
  },
  {
   "cell_type": "markdown",
   "metadata": {},
   "source": [
    "### Plotting"
   ]
  },
  {
   "cell_type": "code",
   "execution_count": 19,
   "metadata": {},
   "outputs": [
    {
     "name": "stdout",
     "output_type": "stream",
     "text": [
      "Optimized Parameters: [-1.08160541  1.88376232  5.77164186]\n"
     ]
    },
    {
     "data": {
      "image/png": "[encoded data removed]",
      "text/plain": [
       "<Figure size 400x300 with 1 Axes>"
      ]
     },
     "metadata": {},
     "output_type": "display_data"
    }
   ],
   "source": [
    "# Define the decaying exponential function\n",
    "def cosine_fit(x, A, omega, C):\n",
    "    return A * np.cos(2 * np.pi * omega * x) + C\n",
    "\n",
    "\n",
    "xaxis = amplitude\n",
    "fit_up2 = -1  # 20\n",
    "# Generate some sample data\n",
    "x_data = xaxis[:fit_up2]\n",
    "y_data = s21_vec[:fit_up2]\n",
    "\n",
    "# Fit the decaying exponential function to the data\n",
    "initial_guess = [0.5, 2, 20]  # initial guess for the parameters A, omega, C\n",
    "optimized_params, _ = curve_fit(cosine_fit, x_data, y_data, p0=initial_guess)\n",
    "\n",
    "# Print the optimized parameters\n",
    "print(\"Optimized Parameters:\", optimized_params)\n",
    "\n",
    "# Plot the data and the fitted function\n",
    "plt.figure(figsize=(4, 3))\n",
    "plt.plot(xaxis, s21_vec, \"o\", ms=3, label=\"Data\")\n",
    "plt.plot(\n",
    "    x_data,\n",
    "    cosine_fit(x_data, *optimized_params),\n",
    "    \"k--\",\n",
    "    lw=0.5,\n",
    ")\n",
    "max_osc = 1 / (2 * optimized_params[1])\n",
    "plt.plot(\n",
    "    [max_osc, max_osc],\n",
    "    [np.min(s21_vec), np.max(s21_vec)],\n",
    "    \"r\",\n",
    "    lw=0.5,\n",
    "    label=f\"Fitted A={1/(2 * optimized_params[1]):.3f}\",\n",
    ")\n",
    "plt.legend()\n",
    "plt.xlabel(\"amplitude\")\n",
    "plt.ylabel(\"$|S_{21}|$\")\n",
    "plt.show()"
   ]
  },
  {
   "cell_type": "code",
   "execution_count": null,
   "metadata": {},
   "outputs": [],
   "source": []
  }
 ],
 "metadata": {
  "kernelspec": {
   "display_name": ".venv",
   "language": "python",
   "name": "python3"
  },
  "language_info": {
   "codemirror_mode": {
    "name": "ipython",
    "version": 3
   },
   "file_extension": ".py",
   "mimetype": "text/x-python",
   "name": "python",
   "nbconvert_exporter": "python",
   "pygments_lexer": "ipython3",
   "version": "3.10.13"
  }
 },
 "nbformat": 4,
 "nbformat_minor": 2
}
