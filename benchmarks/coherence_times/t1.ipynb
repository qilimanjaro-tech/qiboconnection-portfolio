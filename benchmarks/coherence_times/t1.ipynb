{
 "cells": [
  {
   "attachments": {},
   "cell_type": "markdown",
   "metadata": {},
   "source": [
    "## T1 Experiment using QProgram"
   ]
  },
  {
   "cell_type": "code",
   "execution_count": null,
   "metadata": {},
   "outputs": [],
   "source": [
    "import numpy as np\n",
    "import qililab as ql\n",
    "\n",
    "import sys\n",
    "\n",
    "sys.path.insert(1, \"../utils\")\n",
    "\n",
    "from qst_qpt_helper_functions import *\n",
    "\n",
    "from qiboconnection.api import API\n",
    "from qiboconnection.connection import ConnectionConfiguration\n",
    "\n",
    "from qililab.utils import from_dict\n",
    "\n",
    "import matplotlib.pyplot as plt\n",
    "\n",
    "from scipy.optimize import curve_fit\n",
    "\n",
    "\n",
    "api = API(ConnectionConfiguration(username=\"qat\", api_key=\"meow\"))\n",
    "\n",
    "api.select_device_id(9)\n",
    "ql.logger.setLevel(40)  # Set qililab's logger to a higher level so it only shows error messages"
   ]
  },
  {
   "cell_type": "code",
   "execution_count": null,
   "metadata": {},
   "outputs": [],
   "source": [
    "# Qubit to run the experiment on\n",
    "\n",
    "QUBIT = 0"
   ]
  },
  {
   "attachments": {},
   "cell_type": "markdown",
   "metadata": {},
   "source": [
    "### Gates definition"
   ]
  },
  {
   "cell_type": "code",
   "execution_count": 12,
   "metadata": {},
   "outputs": [],
   "source": [
    "runcard = api.get_runcard(runcard_name=\"galadriel_qprogram\")\n",
    "runcard_as_dict = runcard.runcard\n",
    "\n",
    "RO_duration_runcard = runcard_as_dict[\"gates_settings\"][\"gates\"][f\"M({QUBIT})\"][0][\"pulse\"][\"duration\"]\n",
    "RO_amplitude_runcard = runcard_as_dict[\"gates_settings\"][\"gates\"][f\"M({QUBIT})\"][0][\"pulse\"][\"amplitude\"]\n",
    "X_duration_runcard = runcard_as_dict[\"gates_settings\"][\"gates\"][f\"Drag({QUBIT})\"][0][\"pulse\"][\"duration\"]\n",
    "X_num_sigmas_runcard = runcard_as_dict[\"gates_settings\"][\"gates\"][f\"Drag({QUBIT})\"][0][\"pulse\"][\"shape\"][\"num_sigmas\"]\n",
    "X_drag_coefficient_runcard = runcard_as_dict[\"gates_settings\"][\"gates\"][f\"Drag({QUBIT})\"][0][\"pulse\"][\"shape\"][\n",
    "    \"drag_coefficient\"\n",
    "]\n",
    "X_amplitude_runcard = runcard_as_dict[\"gates_settings\"][\"gates\"][f\"Drag({QUBIT})\"][0][\"pulse\"][\"amplitude\"]"
   ]
  },
  {
   "cell_type": "code",
   "execution_count": 14,
   "metadata": {},
   "outputs": [
    {
     "name": "stdout",
     "output_type": "stream",
     "text": [
      "drag params:\n",
      " \t amplitude 0.12946478254360685     duration 40     drag coeff -0.30264985249449683     sigmas 4\n",
      "RO params:\n",
      " \t amplitude 0.0513 \t           duration 2500\n"
     ]
    }
   ],
   "source": [
    "print(\n",
    "    \"drag params:\\n \\t amplitude\",\n",
    "    X_amplitude_runcard,\n",
    "    \"    duration\",\n",
    "    X_duration_runcard,\n",
    "    \"    drag coeff\",\n",
    "    X_drag_coefficient_runcard,\n",
    "    \"    sigmas\",\n",
    "    X_num_sigmas_runcard,\n",
    ")\n",
    "print(\"RO params:\\n \\t amplitude\", RO_amplitude_runcard, \"\\t           duration\", RO_duration_runcard)"
   ]
  },
  {
   "attachments": {},
   "cell_type": "markdown",
   "metadata": {},
   "source": [
    "### Experiment settings"
   ]
  },
  {
   "cell_type": "code",
   "execution_count": 70,
   "metadata": {},
   "outputs": [],
   "source": [
    "shots = 14000\n",
    "\n",
    "wait_start = 0\n",
    "wait_stop = 60000\n",
    "wait_step = 2000\n",
    "\n",
    "control_wf = ql.IQPair.DRAG(\n",
    "    amplitude=1.0 * X_amplitude_runcard,  ## because it's a pi pulse\n",
    "    duration=X_duration_runcard,\n",
    "    num_sigmas=X_num_sigmas_runcard,\n",
    "    drag_coefficient=X_drag_coefficient_runcard,\n",
    ")\n",
    "readout_wf = ql.IQPair(\n",
    "    I=ql.Square(amplitude=1.0 * RO_amplitude_runcard, duration=RO_duration_runcard),\n",
    "    Q=ql.Square(amplitude=0.0 * RO_amplitude_runcard, duration=RO_duration_runcard),\n",
    ")\n",
    "\n",
    "time_of_flight = (\n",
    "    200  ## approximate time it takes for the pulse to reach the set-up, before that we'll just measure noise.\n",
    ")\n",
    "\n",
    "acquisition_weights_duration = RO_duration_runcard\n",
    "acquisition_weights = ql.IQPair(\n",
    "    I=ql.Square(amplitude=1.0, duration=acquisition_weights_duration),\n",
    "    Q=ql.Square(amplitude=1.0, duration=acquisition_weights_duration),\n",
    ")\n",
    "\n",
    "qubit_relaxation_duration = 200_000"
   ]
  },
  {
   "attachments": {},
   "cell_type": "markdown",
   "metadata": {},
   "source": [
    "### QProgram definition"
   ]
  },
  {
   "cell_type": "code",
   "execution_count": 71,
   "metadata": {},
   "outputs": [],
   "source": [
    "qp = ql.QProgram(disable_autosync=True)\n",
    "wait_variable = qp.variable(ql.Domain.Time)\n",
    "with qp.average(shots=shots):\n",
    "    with qp.for_loop(variable=wait_variable, start=wait_start, stop=wait_stop, step=wait_step):\n",
    "        qp.play(bus=f\"drive_q{QUBIT}_bus\", waveform=control_wf)  ## apply X gate\n",
    "        qp.wait(bus=f\"drive_q{QUBIT}_bus\", duration=wait_variable)  # wait\n",
    "        qp.wait(bus=f\"drive_q{QUBIT}_bus\", duration=time_of_flight)  # wait for the RO pulse to get to the fridge\n",
    "        qp.wait(bus=f\"drive_q{QUBIT}_bus\", duration=acquisition_weights.get_duration())  ## wait for data acquisition\n",
    "        qp.wait(bus=f\"drive_q{QUBIT}_bus\", duration=qubit_relaxation_duration)  ## wait for qubit reinitialisation\n",
    "\n",
    "        qp.wait(bus=f\"readout_q{QUBIT}_bus\", duration=control_wf.get_duration())  ## wait for X pulse\n",
    "        qp.wait(bus=f\"readout_q{QUBIT}_bus\", duration=wait_variable)  ## wait for wait time\n",
    "        qp.play(bus=f\"readout_q{QUBIT}_bus\", waveform=readout_wf, wait_time=time_of_flight)  ## send readout pulse\n",
    "        qp.acquire(bus=f\"readout_q{QUBIT}_bus\", weights=acquisition_weights)  ## acquire data\n",
    "        qp.wait(bus=f\"readout_q{QUBIT}_bus\", duration=qubit_relaxation_duration)  ## wait for qubit reinitialisation\n",
    "\n",
    "full_qprogram = qp.to_dict()"
   ]
  },
  {
   "attachments": {},
   "cell_type": "markdown",
   "metadata": {},
   "source": [
    "### Experiment execution"
   ]
  },
  {
   "cell_type": "code",
   "execution_count": 72,
   "metadata": {},
   "outputs": [
    {
     "name": "stderr",
     "output_type": "stream",
     "text": [
      "{\n",
      "  \"title\": \"Unauthorized\",\n",
      "  \"status\": 401,\n",
      "  \"detail\": \"JWTExpired: Error verifying the authorisation access token. Expired at 1709915371, time: 1709915741(leeway: 60) 401 Client Error:  for url: https://qilimanjaroqaas.ddns.net:8080/api/v1/circuits\"\n",
      "}\n",
      "{\"title\":\"Unauthorized\",\"status\":401,\"detail\":\"JWTExpired: Error verifying the authorisation access token. Expired at 1709915371, time: 1709915741(leeway: 60)\"}\n",
      "\n"
     ]
    },
    {
     "name": "stdout",
     "output_type": "stream",
     "text": [
      "9700\n"
     ]
    }
   ],
   "source": [
    "result_id = api.execute(\n",
    "    qprogram=full_qprogram,\n",
    "    name=\"t1\",\n",
    "    summary=f\"timeofflight{time_of_flight}_waitstop{wait_stop}_waitstep{wait_step}_shots{shots}\",\n",
    ")[0]\n",
    "print(result_id)"
   ]
  },
  {
   "cell_type": "code",
   "execution_count": 90,
   "metadata": {},
   "outputs": [
    {
     "name": "stderr",
     "output_type": "stream",
     "text": [
      "Your job with id 9700 is completed.\n"
     ]
    }
   ],
   "source": [
    "results = api.get_result(result_id)"
   ]
  },
  {
   "attachments": {},
   "cell_type": "markdown",
   "metadata": {},
   "source": [
    "###  De-serialising results and post-processing"
   ]
  },
  {
   "cell_type": "code",
   "execution_count": 91,
   "metadata": {},
   "outputs": [],
   "source": [
    "qprogram_results = from_dict(results)"
   ]
  },
  {
   "cell_type": "code",
   "execution_count": 92,
   "metadata": {},
   "outputs": [],
   "source": [
    "i_vec, q_vec = qprogram_results.results[f\"readout_q{QUBIT}_bus\"][0].array  ## i, q\n",
    "v_vec = 20 * np.log10(np.sqrt(i_vec**2 + q_vec**2))"
   ]
  },
  {
   "attachments": {},
   "cell_type": "markdown",
   "metadata": {},
   "source": [
    "###  Plotting"
   ]
  },
  {
   "cell_type": "code",
   "execution_count": 115,
   "metadata": {},
   "outputs": [
    {
     "name": "stdout",
     "output_type": "stream",
     "text": [
      "Optimized Parameters: [3.76471392e+00 3.48761715e+04 1.27564344e+01]\n"
     ]
    },
    {
     "data": {
      "image/png": "[encoded data removed]",
      "text/plain": [
       "<Figure size 400x300 with 1 Axes>"
      ]
     },
     "metadata": {},
     "output_type": "display_data"
    }
   ],
   "source": [
    "# Define the decaying exponential function\n",
    "def decaying_exponential(x, a, b, c):\n",
    "    return a * np.exp(-1 / b * x) + c\n",
    "\n",
    "\n",
    "xaxis = np.arange(wait_start, wait_stop + wait_step, wait_step)\n",
    "# Generate some sample data\n",
    "x_data = xaxis\n",
    "y_data = v_vec\n",
    "\n",
    "# Fit the decaying exponential function to the data\n",
    "initial_guess = [1, 10_000, 0]  # initial guess for the parameters\n",
    "optimized_params, _ = curve_fit(decaying_exponential, x_data, y_data, p0=initial_guess)\n",
    "\n",
    "# Print the optimized parameters\n",
    "print(\"Optimized Parameters:\", optimized_params)\n",
    "\n",
    "# Plot the data and the fitted function\n",
    "plt.figure(figsize=(4, 3))\n",
    "plt.plot(xaxis, v_vec, \"o\", ms=3, label=\"Data\")\n",
    "plt.plot(\n",
    "    x_data,\n",
    "    decaying_exponential(x_data, *optimized_params),\n",
    "    \"k--\",\n",
    "    lw=0.5,\n",
    "    label=f\"Fitted T1={optimized_params[1]/1000:.3f} us\",\n",
    ")\n",
    "plt.legend()\n",
    "plt.xlabel(\"wait time (ns)\")\n",
    "plt.ylabel(\"V\")\n",
    "plt.show()\n",
    "T1_fit_ns = optimized_params[1]"
   ]
  },
  {
   "cell_type": "code",
   "execution_count": null,
   "metadata": {},
   "outputs": [],
   "source": [
    "fig, axes = plt.subplots(1, 3, figsize=(12, 3))\n",
    "data = [i_vec, q_vec, v_vec]\n",
    "xaxis = np.arange(wait_start, wait_stop + wait_step, wait_step)\n",
    "titles = [\"I\", \"Q\", \"V\"]\n",
    "\n",
    "for i in range(3):\n",
    "    axes[i].plot(xaxis, data[i], \"o\")\n",
    "    axes[i].set_title(titles[i])\n",
    "    axes[i].set_xlabel(\"wait time (ns)\")"
   ]
  }
 ],
 "metadata": {
  "kernelspec": {
   "display_name": "alphatesting",
   "language": "python",
   "name": "python3"
  },
  "language_info": {
   "codemirror_mode": {
    "name": "ipython",
    "version": 3
   },
   "file_extension": ".py",
   "mimetype": "text/x-python",
   "name": "python",
   "nbconvert_exporter": "python",
   "pygments_lexer": "ipython3",
   "version": "3.10.12"
  }
 },
 "nbformat": 4,
 "nbformat_minor": 2
}
