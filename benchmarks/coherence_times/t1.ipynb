{
 "cells": [
  {
   "cell_type": "code",
   "execution_count": 1,
   "metadata": {},
   "outputs": [
    {
     "name": "stdout",
     "output_type": "stream",
     "text": [
      "2024-02-18 18:00:54,982 - qm - INFO     - Starting session: e484d76d-0173-4bb6-9bb6-124400ff6d8c\n"
     ]
    }
   ],
   "source": [
    "import numpy as np\n",
    "import qililab as ql\n",
    "\n",
    "from utils.qst_qpt_helper_functions import *\n",
    "\n",
    "from qiboconnection.api import API\n",
    "from qiboconnection.connection import ConnectionConfiguration\n",
    "\n",
    "import os\n",
    "\n",
    "import matplotlib.pyplot as plt\n",
    "\n",
    "from scipy.optimize import curve_fit\n",
    "\n",
    "\n",
    "api = API(ConnectionConfiguration(username=\"qat\", api_key=\"meow\"))\n",
    "\n",
    "\n",
    "api.select_device_id(9)"
   ]
  },
  {
   "cell_type": "markdown",
   "metadata": {},
   "source": [
    "Is setting the logger perhaps a bit ugly for remote users to have to do manually? I have not seen any experiment where it is preferred to not be set to a higher level"
   ]
  },
  {
   "cell_type": "code",
   "execution_count": 2,
   "metadata": {},
   "outputs": [],
   "source": [
    "ql.logger.setLevel(40)  # Set qililab's logger to a higher level so it only shows error messages"
   ]
  },
  {
   "cell_type": "code",
   "execution_count": 3,
   "metadata": {},
   "outputs": [],
   "source": [
    "# Amplitude set in Qblox terms (0.5 times mV)\n",
    "Time_START = 0\n",
    "Time_STOP = 200000\n",
    "Time_STEP = 20  ## this had two more zeros, but with the software loop if was taking 7more than 7 minutes to send.\n",
    "\n",
    "SQUARE_duration = 4000\n",
    "GAUSS_duration = 2000\n",
    "\n",
    "NSHOTS = 2000"
   ]
  },
  {
   "cell_type": "code",
   "execution_count": 36,
   "metadata": {},
   "outputs": [],
   "source": [
    "# The shape of the pulses is introduced here\n",
    "gauss_wf = ql.Gaussian(amplitude=1, duration=GAUSS_duration, num_sigmas=4.0)  # Drag pulse executing pi rotation\n",
    "square_wf = ql.Square(amplitude=1, duration=SQUARE_duration)  # square wavefront (readout pulse)\n",
    "\n",
    "weights_shape = ql.Square(amplitude=1, duration=SQUARE_duration)  # This shape implies that the weights are uniform\n",
    "## this uniform weighting has nothing to do with the thresholding, it's because Qblox allows for weighting the points\n",
    "## of the waveform that you sent differently. This feature in particular is designed for aiding in making the square\n",
    "## pulses as square as possible (since one has to correct the edges for a digital square signal). We set it to be uniform\n",
    "## always, but I believe we are making this correction elsewhere. Check with Guille though."
   ]
  },
  {
   "cell_type": "code",
   "execution_count": 5,
   "metadata": {},
   "outputs": [],
   "source": [
    "# Building the Qprogram\n",
    "qp_t1 = ql.QProgram()\n",
    "\n",
    "# Defining the variable Frequency for the driving pulse\n",
    "wait_time = qp_t1.variable(ql.Domain.Time)  # Possible domains: Scalar, Time, Frequency, Phase and Voltage\n",
    "\n",
    "# Averaging over NSHOTS iterations\n",
    "with qp_t1.average(NSHOTS):\n",
    "    # Loop over all wait times\n",
    "    with qp_t1.for_loop(variable=wait_time, start=Time_START, stop=Time_STOP, step=Time_STEP):\n",
    "        qp_t1.play(bus=\"drive_q0_bus\", waveform=gauss_wf)  # execute the pi pulse\n",
    "        qp_t1.wait(bus=\"drive_q0_bus\", duration=wait_time)  # wait\n",
    "\n",
    "        qp_t1.sync()  # so that the next bus (for the readout) executes after the previous (drive)\n",
    "        ## a sync must be added between different buses if we want them to be consecutive. Each bus\n",
    "        ## refers to either a particular qubit's sequence of DRAGs, a particular qubit's readout pulse\n",
    "        ## or a particular qubit pair's sequence of two-qubit gates\n",
    "\n",
    "        # READOUT PULSE\n",
    "        qp_t1.play(bus=\"readout_q0_bus\", waveform=square_wf, wait_time=4)  ## execute readout pulse\n",
    "        qp_t1.acquire(\n",
    "            bus=\"readout_q0_bus\", weights=ql.IQPair(I=weights_shape, Q=weights_shape)\n",
    "        )  # Collect data from readout\n",
    "\n",
    "full_qprogram = qp_t1.to_dict()"
   ]
  },
  {
   "cell_type": "markdown",
   "metadata": {},
   "source": [
    "# This code can't work yet because the sync after a wait time is not properly implemented yet."
   ]
  },
  {
   "cell_type": "code",
   "execution_count": 8,
   "metadata": {},
   "outputs": [],
   "source": [
    "Wait_duration_list = np.linspace(Time_START, Time_STOP, Time_STEP)"
   ]
  },
  {
   "cell_type": "code",
   "execution_count": 40,
   "metadata": {},
   "outputs": [
    {
     "name": "stdout",
     "output_type": "stream",
     "text": [
      "8611\n"
     ]
    }
   ],
   "source": [
    "result_id = api.execute(qprogram=full_qprogram)[0]\n",
    "print(result_id)"
   ]
  },
  {
   "cell_type": "markdown",
   "metadata": {},
   "source": [
    "### Post-processing of data is now going to the same function as if it were coming from a circuit, but the post-processing will likely have to be different."
   ]
  },
  {
   "cell_type": "code",
   "execution_count": null,
   "metadata": {},
   "outputs": [],
   "source": [
    "data_probabilities = process_returned_dataformat(result_id, nqubits=1)"
   ]
  },
  {
   "cell_type": "code",
   "execution_count": null,
   "metadata": {},
   "outputs": [],
   "source": [
    "probabilities_excited = data_probabilities[:, 1]\n",
    "\n",
    "fit_up2 = -1\n",
    "coeffs_fit = np.polyfit(Wait_duration_list[:fit_up2], np.log10(probabilities_excited[:fit_up2]), 1)\n",
    "poly1d_fn = np.poly1d(coeffs_fit)  # poly1d_fn is now a function which takes in x and returns an estimate for y\n",
    "exponent = coeffs_fit[0]\n",
    "T1 = -1 / exponent\n",
    "\n",
    "# Plot the data and the fitted function\n",
    "plt.figure(figsize=(8, 6))\n",
    "plt.plot(Wait_duration_list, np.log10(probabilities_excited), label=\"data\")\n",
    "plt.plot(Wait_duration_list, poly1d_fn(Wait_duration_list), \"r\", label=f\"Fitted T1={T1/1000:.3f} us\")\n",
    "plt.legend()\n",
    "plt.xlabel(\"Wait time (ns)\")\n",
    "plt.ylabel(\"Prob($|1\\\\rangle$)\")"
   ]
  }
 ],
 "metadata": {
  "kernelspec": {
   "display_name": "alphatesting",
   "language": "python",
   "name": "python3"
  },
  "language_info": {
   "codemirror_mode": {
    "name": "ipython",
    "version": 3
   },
   "file_extension": ".py",
   "mimetype": "text/x-python",
   "name": "python",
   "nbconvert_exporter": "python",
   "pygments_lexer": "ipython3",
   "version": "3.10.13"
  }
 },
 "nbformat": 4,
 "nbformat_minor": 2
}
