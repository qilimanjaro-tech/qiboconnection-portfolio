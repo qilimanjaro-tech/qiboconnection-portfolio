{
 "cells": [
  {
   "cell_type": "code",
   "execution_count": 4,
   "metadata": {},
   "outputs": [],
   "source": [
    "import numpy as np\n",
    "import qililab as ql\n",
    "\n",
    "## ugly solution because we have not created a proper package\n",
    "import sys\n",
    "\n",
    "sys.path.insert(1, \"../utils\")\n",
    "\n",
    "from qst_qpt_helper_functions import *\n",
    "\n",
    "from qiboconnection.api import API\n",
    "from qiboconnection.connection import ConnectionConfiguration\n",
    "\n",
    "import os\n",
    "\n",
    "import matplotlib.pyplot as plt\n",
    "\n",
    "from scipy.optimize import curve_fit\n",
    "\n",
    "\n",
    "# api = API(ConnectionConfiguration(username=\"qat\", api_key=\"meow\"))\n",
    "api = API(ConnectionConfiguration(username=\"apalacios\", api_key=\"3ec51562-3ff2-4f7b-add8-b21e1645a89d\"))\n",
    "\n",
    "api.select_device_id(9)"
   ]
  },
  {
   "cell_type": "markdown",
   "metadata": {},
   "source": [
    "Is setting the logger perhaps a bit ugly for remote users to have to do manually? I have not seen any experiment where it is preferred to not be set to a higher level"
   ]
  },
  {
   "cell_type": "code",
   "execution_count": 5,
   "metadata": {},
   "outputs": [],
   "source": [
    "ql.logger.setLevel(40)  # Set qililab's logger to a higher level so it only shows error messages"
   ]
  },
  {
   "cell_type": "code",
   "execution_count": 7,
   "metadata": {},
   "outputs": [],
   "source": [
    "# Amplitude set in Qblox terms (0.5 times mV)\n",
    "Time_START = 0\n",
    "Time_STOP = 200000\n",
    "Time_STEP = 20  ## this had two more zeros, but with the software loop if was taking 7more than 7 minutes to send.\n",
    "\n",
    "SQUARE_duration = 4000\n",
    "GAUSS_duration = 2000\n",
    "\n",
    "NSHOTS = 2000\n",
    "\n",
    "QUBIT = 4"
   ]
  },
  {
   "cell_type": "code",
   "execution_count": 8,
   "metadata": {},
   "outputs": [],
   "source": [
    "# The shape of the pulses is introduced here\n",
    "gauss_wf = ql.Gaussian(amplitude=1, duration=GAUSS_duration, num_sigmas=4.0)  # Drag pulse executing pi rotation\n",
    "square_wf = ql.Square(amplitude=1, duration=SQUARE_duration)  # square wavefront (readout pulse)\n",
    "\n",
    "weights_shape = ql.Square(amplitude=1, duration=SQUARE_duration)  # This shape implies that the weights are uniform\n",
    "## this uniform weighting has nothing to do with the thresholding, it's because Qblox allows for weighting the points\n",
    "## of the waveform that you sent differently. This feature in particular is designed for aiding in making the square\n",
    "## pulses as square as possible (since one has to correct the edges for a digital square signal). We set it to be uniform\n",
    "## always, but I believe we are making this correction elsewhere. Check with Guille though."
   ]
  },
  {
   "cell_type": "code",
   "execution_count": null,
   "metadata": {},
   "outputs": [],
   "source": [
    "qp_multiple_measurement = ql.QProgram()\n",
    "QUBIT = 4\n",
    "\n",
    "# Defining the variable Frequency for the driving pulse\n",
    "wait_time = qp_multiple_measurement.variable(\n",
    "    ql.Domain.Time\n",
    ")  # Possible domains: Scalar, Time, Frequency, Phase and Voltage\n",
    "\n",
    "# Averaging over NSHOTS iterations\n",
    "with qp_multiple_measurement.average(NSHOTS):\n",
    "    # Loop over all wait times\n",
    "    with qp_multiple_measurement.for_loop(variable=wait_time, start=Time_START, stop=Time_STOP, step=Time_STEP):\n",
    "        qp_multiple_measurement.play(bus=f\"drive_q{QUBIT}_bus\", waveform=gauss_wf)  # execute the pi pulse\n",
    "        qp_multiple_measurement.wait(bus=f\"drive_q{QUBIT}_bus\", duration=wait_time)  # wait\n",
    "\n",
    "        # qp_t1.sync()  # so that the next bus (for the readout) executes after the previous (drive)\n",
    "        ## a sync must be added between different buses if we want them to be consecutive. Each bus\n",
    "        ## refers to either a particular qubit's sequence of DRAGs, a particular qubit's readout pulse\n",
    "        ## or a particular qubit pair's sequence of two-qubit gates\n",
    "\n",
    "        # READOUT PULSE\n",
    "        ## workaround to avoid dynamic syncing\n",
    "        wait_time_before_readout = GAUSS_duration + wait_time\n",
    "        qp_multiple_measurement.wait(bus=f\"readout_q{QUBIT}_bus\", duration=wait_time_before_readout)\n",
    "\n",
    "        qp_multiple_measurement.play(\n",
    "            bus=f\"readout_q{QUBIT}_bus\", waveform=square_wf, wait_time=4\n",
    "        )  ## execute readout pulse\n",
    "        qp_multiple_measurement.acquire(\n",
    "            bus=f\"readout_q{QUBIT}_bus\", weights=ql.IQPair(I=weights_shape, Q=weights_shape)\n",
    "        )  # Collect data from readout"
   ]
  },
  {
   "cell_type": "markdown",
   "metadata": {},
   "source": [
    "Exemplary code snippet for parallel loops"
   ]
  },
  {
   "cell_type": "code",
   "execution_count": 33,
   "metadata": {},
   "outputs": [],
   "source": [
    "from qililab.qprogram.blocks import ForLoop\n",
    "\n",
    "qp_t1 = ql.QProgram()\n",
    "wait_time = qp_t1.variable(ql.Domain.Time)\n",
    "wait_time_RO = qp_t1.variable(ql.Domain.Time)\n",
    "Time_START_RO = Time_START + GAUSS_duration\n",
    "Time_STOP_RO = Time_STOP + GAUSS_duration\n",
    "\n",
    "with qp_t1.average(NSHOTS):\n",
    "    with qp_t1.parallel(\n",
    "        loops=[\n",
    "            ForLoop(variable=wait_time, start=Time_START, stop=Time_STOP, step=Time_STEP),\n",
    "            ForLoop(variable=wait_time_RO, start=Time_START_RO, stop=Time_STOP_RO, step=Time_STEP),\n",
    "        ]\n",
    "    ):\n",
    "        qp_t1.play(bus=f\"drive_q{QUBIT}_bus\", waveform=gauss_wf)  # execute the pi pulse\n",
    "        qp_t1.wait(bus=f\"drive_q{QUBIT}_bus\", duration=wait_time)  # wait\n",
    "\n",
    "        qp_t1.wait(bus=f\"readout_q{QUBIT}_bus\", duration=wait_time_RO)\n",
    "\n",
    "        qp_t1.play(bus=f\"readout_q{QUBIT}_bus\", waveform=square_wf, wait_time=4)  ## execute readout pulse\n",
    "        qp_t1.acquire(\n",
    "            bus=f\"readout_q{QUBIT}_bus\", weights=ql.IQPair(I=weights_shape, Q=weights_shape)\n",
    "        )  # Collect data from readout\n",
    "\n",
    "full_qprogram = qp_t1.to_dict()"
   ]
  },
  {
   "cell_type": "code",
   "execution_count": 28,
   "metadata": {},
   "outputs": [],
   "source": [
    "# Building the Qprogram\n",
    "qp_t1 = ql.QProgram()\n",
    "\n",
    "# Defining the variable Frequency for the driving pulse\n",
    "wait_time = qp_t1.variable(ql.Domain.Time)  # Possible domains: Scalar, Time, Frequency, Phase and Voltage\n",
    "\n",
    "# Averaging over NSHOTS iterations\n",
    "with qp_t1.average(NSHOTS):\n",
    "    # Loop over all wait times\n",
    "    with qp_t1.for_loop(variable=wait_time, start=Time_START, stop=Time_STOP, step=Time_STEP):\n",
    "        qp_t1.play(bus=f\"drive_q{QUBIT}_bus\", waveform=gauss_wf)  # execute the pi pulse\n",
    "        qp_t1.wait(bus=f\"drive_q{QUBIT}_bus\", duration=wait_time)  # wait\n",
    "\n",
    "        # qp_t1.sync()  # so that the next bus (for the readout) executes after the previous (drive)\n",
    "        ## a sync must be added between different buses if we want them to be consecutive. Each bus\n",
    "        ## refers to either a particular qubit's sequence of DRAGs, a particular qubit's readout pulse\n",
    "        ## or a particular qubit pair's sequence of two-qubit gates\n",
    "\n",
    "        # READOUT PULSE\n",
    "        ## workaround to avoid dynamic syncing\n",
    "        wait_time_before_readout = GAUSS_duration + wait_time\n",
    "        qp_t1.wait(bus=f\"readout_q{QUBIT}_bus\", duration=wait_time_before_readout)\n",
    "\n",
    "        qp_t1.play(bus=f\"readout_q{QUBIT}_bus\", waveform=square_wf, wait_time=4)  ## execute readout pulse\n",
    "        qp_t1.acquire(\n",
    "            bus=f\"readout_q{QUBIT}_bus\", weights=ql.IQPair(I=weights_shape, Q=weights_shape)\n",
    "        )  # Collect data from readout\n",
    "\n",
    "full_qprogram = qp_t1.to_dict()"
   ]
  },
  {
   "cell_type": "markdown",
   "metadata": {},
   "source": [
    "# This code can't work yet because the sync after a wait time is not properly implemented yet."
   ]
  },
  {
   "cell_type": "code",
   "execution_count": 29,
   "metadata": {},
   "outputs": [],
   "source": [
    "Wait_duration_list = np.linspace(Time_START, Time_STOP, Time_STEP)"
   ]
  },
  {
   "cell_type": "code",
   "execution_count": 34,
   "metadata": {},
   "outputs": [
    {
     "name": "stderr",
     "output_type": "stream",
     "text": [
      "{\n",
      "  \"title\": \"Unauthorized\",\n",
      "  \"status\": 401,\n",
      "  \"detail\": \"JWTExpired: Error verifying the authorisation access token. Expired at 1709546789, time: 1709567069(leeway: 60) 401 Client Error:  for url: https://qilimanjaroqaas.ddns.net:8080/api/v1/circuits\"\n",
      "}\n",
      "{\"title\":\"Unauthorized\",\"status\":401,\"detail\":\"JWTExpired: Error verifying the authorisation access token. Expired at 1709546789, time: 1709567069(leeway: 60)\"}\n",
      "\n"
     ]
    },
    {
     "name": "stdout",
     "output_type": "stream",
     "text": [
      "9602\n"
     ]
    }
   ],
   "source": [
    "result_id = api.execute(qprogram=full_qprogram)[0]\n",
    "print(result_id)"
   ]
  },
  {
   "cell_type": "markdown",
   "metadata": {},
   "source": [
    "### Post-processing of data is now going to the same function as if it were coming from a circuit, but the post-processing will likely have to be different."
   ]
  },
  {
   "cell_type": "code",
   "execution_count": 44,
   "metadata": {},
   "outputs": [
    {
     "name": "stderr",
     "output_type": "stream",
     "text": [
      "{\n",
      "  \"title\": \"Unauthorized\",\n",
      "  \"status\": 401,\n",
      "  \"detail\": \"JWTExpired: Error verifying the authorisation access token. Expired at 1709567370, time: 1709567508(leeway: 60) 401 Client Error:  for url: https://qilimanjaroqaas.ddns.net:8080/api/v1/jobs/9602\"\n",
      "}\n",
      "{\"title\":\"Unauthorized\",\"status\":401,\"detail\":\"JWTExpired: Error verifying the authorisation access token. Expired at 1709567370, time: 1709567508(leeway: 60)\"}\n",
      "\n",
      "Your job with id 9602 failed.\n"
     ]
    }
   ],
   "source": [
    "results = api.get_result(result_id)"
   ]
  },
  {
   "cell_type": "code",
   "execution_count": 45,
   "metadata": {},
   "outputs": [
    {
     "name": "stderr",
     "output_type": "stream",
     "text": [
      "Your job with id 9602 failed.\n"
     ]
    },
    {
     "name": "stdout",
     "output_type": "stream",
     "text": [
      "Interruption in stage='execute': Dynamic syncing is not implemented yet. (<class 'NotImplementedError'>). Traceback:\n",
      "  File \"/home/qili-docker/qgqs/services/device_service/src/utils/decorators.py\", line 20, in wrapper\n",
      "    return func(*args, **kwargs)\n",
      "\n",
      "  File \"/home/qili-docker/qgqs/services/device_service/src/api/slurm_executions.py\", line 77, in _execute\n",
      "    return execution_class.execute_qprogram(\n",
      "\n",
      "  File \"/home/qili-docker/qgqs/services/device_service/src/service/executions/qililab_executions.py\", line 76, in execute_qprogram\n",
      "    result = platform.execute_qprogram(qprogram=qprogram)\n",
      "\n",
      "  File \"/home/qili-docker/miniconda3/envs/submitit/lib/python3.10/site-packages/qililab/platform/platform.py\", line 621, in execute_qprogram\n",
      "    return self._execute_qprogram_with_qblox(qprogram=qprogram, bus_mapping=bus_mapping, debug=debug)\n",
      "\n",
      "  File \"/home/qili-docker/miniconda3/envs/submitit/lib/python3.10/site-packages/qililab/platform/platform.py\", line 638, in _execute_qprogram_with_qblox\n",
      "    sequences = qblox_compiler.compile(qprogram=qprogram, bus_mapping=bus_mapping)\n",
      "\n",
      "  File \"/home/qili-docker/miniconda3/envs/submitit/lib/python3.10/site-packages/qililab/qprogram/qblox_compiler.py\", line 146, in compile\n",
      "    traverse(self._qprogram._body)\n",
      "\n",
      "  File \"/home/qili-docker/miniconda3/envs/submitit/lib/python3.10/site-packages/qililab/qprogram/qblox_compiler.py\", line 131, in traverse\n",
      "    traverse(element)\n",
      "\n",
      "  File \"/home/qili-docker/miniconda3/envs/submitit/lib/python3.10/site-packages/qililab/qprogram/qblox_compiler.py\", line 133, in traverse\n",
      "    self._handle_sync(element=Sync(buses=None))\n",
      "\n",
      "  File \"/home/qili-docker/miniconda3/envs/submitit/lib/python3.10/site-packages/qililab/qprogram/qblox_compiler.py\", line 382, in _handle_sync\n",
      "    self.__handle_dynamic_sync(buses=buses)\n",
      "\n",
      "  File \"/home/qili-docker/miniconda3/envs/submitit/lib/python3.10/site-packages/qililab/qprogram/qblox_compiler.py\", line 401, in __handle_dynamic_sync\n",
      "    raise NotImplementedError(\"Dynamic syncing is not implemented yet.\")\n",
      "\n"
     ]
    }
   ],
   "source": [
    "print(api.get_job(result_id).logs)"
   ]
  },
  {
   "cell_type": "code",
   "execution_count": null,
   "metadata": {},
   "outputs": [],
   "source": [
    "data_probabilities = process_returned_dataformat(results, nqubits=1)"
   ]
  },
  {
   "cell_type": "code",
   "execution_count": null,
   "metadata": {},
   "outputs": [],
   "source": [
    "probabilities_excited = data_probabilities[:, 1]\n",
    "\n",
    "fit_up2 = -1\n",
    "coeffs_fit = np.polyfit(Wait_duration_list[:fit_up2], np.log10(probabilities_excited[:fit_up2]), 1)\n",
    "poly1d_fn = np.poly1d(coeffs_fit)  # poly1d_fn is now a function which takes in x and returns an estimate for y\n",
    "exponent = coeffs_fit[0]\n",
    "T1 = -1 / exponent\n",
    "\n",
    "# Plot the data and the fitted function\n",
    "plt.figure(figsize=(8, 6))\n",
    "plt.plot(Wait_duration_list, np.log10(probabilities_excited), label=\"data\")\n",
    "plt.plot(Wait_duration_list, poly1d_fn(Wait_duration_list), \"r\", label=f\"Fitted T1={T1/1000:.3f} us\")\n",
    "plt.legend()\n",
    "plt.xlabel(\"Wait time (ns)\")\n",
    "plt.ylabel(\"Prob($|1\\\\rangle$)\")"
   ]
  }
 ],
 "metadata": {
  "kernelspec": {
   "display_name": "alphatesting",
   "language": "python",
   "name": "python3"
  },
  "language_info": {
   "codemirror_mode": {
    "name": "ipython",
    "version": 3
   },
   "file_extension": ".py",
   "mimetype": "text/x-python",
   "name": "python",
   "nbconvert_exporter": "python",
   "pygments_lexer": "ipython3",
   "version": "3.10.13"
  }
 },
 "nbformat": 4,
 "nbformat_minor": 2
}
