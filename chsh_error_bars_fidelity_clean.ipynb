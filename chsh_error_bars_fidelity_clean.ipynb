{
 "cells": [
  {
   "cell_type": "code",
   "execution_count": 1,
   "metadata": {},
   "outputs": [],
   "source": [
    "import matplotlib.pyplot as plt\n",
    "import numpy as np\n",
    "from qibo.gates import M, X, RY, CZ, I, H\n",
    "from qibo.models import Circuit\n",
    "from qiboconnection.api import API\n",
    "import matplotlib.pyplot as plt\n",
    "\n",
    "from qiboconnection.connection import ConnectionConfiguration\n",
    "\n",
    "from benchmarks.utils.qst_qpt_helper_functions import process_returned_dataformat\n",
    "from time import sleep\n",
    "\n",
    "from itertools import product\n",
    "from scipy.stats import multivariate_normal\n",
    "api = API(ConnectionConfiguration(username=\"vsanchez\", api_key=\"ea712370-7516-4cbf-91a6-72a82e39ba02\"))\n",
    "from scipy import stats\n",
    "\n",
    "api.select_device_id(9)"
   ]
  },
  {
   "cell_type": "markdown",
   "metadata": {},
   "source": [
    "### Experiment parameters"
   ]
  },
  {
   "cell_type": "code",
   "execution_count": 2,
   "metadata": {},
   "outputs": [],
   "source": [
    "CONTROL_QUBIT = 2\n",
    "TARGET_QUBIT = 0\n",
    "THETA_VALUES = np.linspace(-np.pi, np.pi, num=20)\n",
    "BELL_STATE = \"psi_minus\" # phi_plus, phi_minus, psi_plus, psi_minus\n",
    "\n",
    "NUM_SHOTS = 8000\n",
    "\n",
    "LOAD_RESULTS = True\n",
    "mfidelity_qc = 0.88 # measurement fidelity control qubit\n",
    "mfidelity_qt = 0.84 # measurement fidelity target qubit"
   ]
  },
  {
   "cell_type": "markdown",
   "metadata": {},
   "source": [
    "### Circuits definitions"
   ]
  },
  {
   "cell_type": "code",
   "execution_count": 3,
   "metadata": {},
   "outputs": [],
   "source": [
    "def get_chsh_circuits(bell_state, control_qubit, target_qubit, theta):\n",
    "    assert bell_state in (\n",
    "        \"phi_plus\",\n",
    "        \"phi_minus\",\n",
    "        \"psi_plus\",\n",
    "        \"psi_minus\",\n",
    "    ), \"bell_state should be phi_plus, phi_minus, psi_plus, psi_minus\"\n",
    "    nqubits = max(control_qubit, target_qubit) + 1\n",
    "\n",
    "    circuits = []\n",
    "    for gate_a, gate_b in product([I, H], repeat=2):\n",
    "        circuit = Circuit(nqubits)\n",
    "\n",
    "        if bell_state == \"phi_plus\" or bell_state == \"psi_minus\":\n",
    "            G1 = RY(control_qubit, theta=-np.pi / 2)\n",
    "        else:\n",
    "            G1 = RY(control_qubit, theta=np.pi / 2)\n",
    "        if bell_state == \"phi_plus\" or bell_state == \"phi_minus\":\n",
    "            G2_prime = RY(target_qubit, theta=-np.pi / 2)\n",
    "        else:\n",
    "            G2_prime = RY(target_qubit, theta=np.pi / 2)\n",
    "        ## build bell state\n",
    "        circuit.add(G1)\n",
    "        circuit.add(RY(target_qubit, theta=np.pi / 2))\n",
    "        circuit.add(CZ(control_qubit, target_qubit))\n",
    "        circuit.add(G2_prime)\n",
    "\n",
    "        ## decoder part\n",
    "        circuit.add(RY(control_qubit, theta=theta))\n",
    "        circuit.add(gate_a(control_qubit))\n",
    "        circuit.add(gate_b(target_qubit))\n",
    "        circuit.add(M(control_qubit, target_qubit))\n",
    "\n",
    "        circuits.append(circuit)\n",
    "\n",
    "    return circuits\n",
    "\n",
    "\n",
    "def SPAM_circuits(control_qubit, target_qubit):\n",
    "    \"\"\"Circuits to get the SPAM matrix in order to perform measurement correction.\"\"\"\n",
    "    calibration_circuits = []\n",
    "    for gate_a, gate_b in product([I, X], repeat=2):\n",
    "        calibration_circuit = Circuit(5)\n",
    "        calibration_circuit.add(gate_a(control_qubit))\n",
    "        calibration_circuit.add(gate_b(target_qubit))\n",
    "        calibration_circuit.add(M(control_qubit, target_qubit))\n",
    "\n",
    "        calibration_circuits.append(calibration_circuit)\n",
    "    return calibration_circuits\n",
    "\n",
    "\n",
    "def compute_witnesses(chsh_results, measurement_calibration_weights, BELL_STATE, raw=False):\n",
    "    \"\"\"Returns arrays of computed witness values.\n",
    "\n",
    "    Args:\n",
    "        chsh_results (array): matrix containing the probabilities the chsh circuits. It must be\n",
    "                        of dimensions len(theta_values) x 4 (decoder circuits) x 4 (probabilities)\n",
    "        measurement_calibration_weights (array): measurement calibration matrix.\n",
    "        BELL_STATE (string): can be \"phi_plus\", \"phi_minus\", \"psi_plus\" or \"psi_minus\". It needs\n",
    "                            to be specified because the witness isn't the same for all 4 Bell states.\n",
    "        raw (bool): whether or not calculate the witnesses from the raw data instead of applying the\n",
    "                    measurement corrections. Defaults to False.\n",
    "    Returns:\n",
    "        witness1 (array): array length len(theta_values) containing the first witness\n",
    "        witness2 (array): array length len(theta_values) containing the second witness\n",
    "    \"\"\"\n",
    "    len_theta_values = np.shape(chsh_results)[0]\n",
    "    witness1 = np.zeros(len_theta_values)\n",
    "    witness2 = np.zeros(len_theta_values)\n",
    "\n",
    "    if BELL_STATE in [\"phi_plus\", \"psi_minus\"]:\n",
    "        signs1 = np.array([1, 1, -1, 1])\n",
    "        signs2 = np.array([1, -1, 1, 1])\n",
    "    else:\n",
    "        signs1 = np.array([-1, 1, 1, 1])\n",
    "        signs2 = np.array([1, 1, 1, -1])\n",
    "\n",
    "    for i, chsh_result in enumerate(chsh_results):\n",
    "        if raw is not True:\n",
    "            # apply measurement calibration\n",
    "            chsh_result = measurement_calibration_weights @ chsh_result.T\n",
    "            # calculate expectation values from probabilities\n",
    "            expectations = np.array([1, -1, -1, 1]).T @ chsh_result\n",
    "\n",
    "        else:\n",
    "            # calculate expectation values from probabilities\n",
    "            expectations = chsh_result @ np.array([1, -1, -1, 1])\n",
    "        # compute witnesses\n",
    "        witness1[i] = signs1.T @ expectations\n",
    "        witness2[i] = signs2.T @ expectations\n",
    "    return witness1, witness2"
   ]
  },
  {
   "cell_type": "markdown",
   "metadata": {},
   "source": [
    "### Build circuits for CHSH and measurement correction"
   ]
  },
  {
   "cell_type": "code",
   "execution_count": 4,
   "metadata": {},
   "outputs": [],
   "source": [
    "all_circuits_chsh = []\n",
    "for theta in THETA_VALUES:\n",
    "    circuits_th = get_chsh_circuits(BELL_STATE, CONTROL_QUBIT, TARGET_QUBIT, theta)\n",
    "    all_circuits_chsh.extend(circuits_th)\n",
    "\n",
    "all_circuits = SPAM_circuits(CONTROL_QUBIT, TARGET_QUBIT)\n",
    "\n",
    "all_circuits.extend(all_circuits_chsh)"
   ]
  },
  {
   "cell_type": "markdown",
   "metadata": {},
   "source": [
    "### Run circuits"
   ]
  },
  {
   "cell_type": "code",
   "execution_count": 5,
   "metadata": {},
   "outputs": [],
   "source": [
    "result_id = 8695\n",
    "\n",
    "if LOAD_RESULTS is False:\n",
    "    result_id = api.execute(all_circuits, nshots=NUM_SHOTS)[0]"
   ]
  },
  {
   "cell_type": "markdown",
   "metadata": {},
   "source": [
    "### Wait until execution has finished"
   ]
  },
  {
   "cell_type": "code",
   "execution_count": 6,
   "metadata": {},
   "outputs": [
    {
     "name": "stderr",
     "output_type": "stream",
     "text": [
      "Your job with id 8695 is completed.\n"
     ]
    },
    {
     "data": {
      "text/plain": [
       "[{'probabilities': {'00': 0.7305, '01': 0.1315, '10': 0.1175, '11': 0.0205}},\n",
       " {'probabilities': {'00': 0.158, '01': 0.717, '10': 0.0315, '11': 0.0935}},\n",
       " {'probabilities': {'00': 0.1545, '01': 0.027, '10': 0.6985, '11': 0.12}},\n",
       " {'probabilities': {'00': 0.0265, '01': 0.158, '10': 0.131, '11': 0.6845}},\n",
       " {'probabilities': {'00': 0.429, '01': 0.088, '10': 0.0855, '11': 0.3975}},\n",
       " {'probabilities': {'00': 0.26, '01': 0.2575, '10': 0.2405, '11': 0.242}},\n",
       " {'probabilities': {'00': 0.27, '01': 0.263, '10': 0.254, '11': 0.213}},\n",
       " {'probabilities': {'00': 0.392, '01': 0.1325, '10': 0.114, '11': 0.3615}},\n",
       " {'probabilities': {'00': 0.4215, '01': 0.0925, '10': 0.099, '11': 0.387}},\n",
       " {'probabilities': {'00': 0.2315, '01': 0.296, '10': 0.281, '11': 0.1915}},\n",
       " {'probabilities': {'00': 0.3145, '01': 0.2135, '10': 0.2085, '11': 0.2635}},\n",
       " {'probabilities': {'00': 0.3725, '01': 0.1255, '10': 0.123, '11': 0.379}},\n",
       " {'probabilities': {'00': 0.3935, '01': 0.1275, '10': 0.13, '11': 0.349}},\n",
       " {'probabilities': {'00': 0.1745, '01': 0.333, '10': 0.3315, '11': 0.161}},\n",
       " {'probabilities': {'00': 0.362, '01': 0.182, '10': 0.1585, '11': 0.2975}},\n",
       " {'probabilities': {'00': 0.3805, '01': 0.1465, '10': 0.1465, '11': 0.3265}},\n",
       " {'probabilities': {'00': 0.3455, '01': 0.148, '10': 0.1695, '11': 0.337}},\n",
       " {'probabilities': {'00': 0.1365, '01': 0.3505, '10': 0.3815, '11': 0.1315}},\n",
       " {'probabilities': {'00': 0.374, '01': 0.1395, '10': 0.1185, '11': 0.368}},\n",
       " {'probabilities': {'00': 0.367, '01': 0.1695, '10': 0.169, '11': 0.2945}},\n",
       " {'probabilities': {'00': 0.3175, '01': 0.2065, '10': 0.218, '11': 0.258}},\n",
       " {'probabilities': {'00': 0.138, '01': 0.367, '10': 0.3855, '11': 0.1095}},\n",
       " {'probabilities': {'00': 0.41, '01': 0.1075, '10': 0.113, '11': 0.3695}},\n",
       " {'probabilities': {'00': 0.3, '01': 0.215, '10': 0.219, '11': 0.266}},\n",
       " {'probabilities': {'00': 0.2505, '01': 0.2425, '10': 0.2705, '11': 0.2365}},\n",
       " {'probabilities': {'00': 0.1305, '01': 0.3705, '10': 0.391, '11': 0.108}},\n",
       " {'probabilities': {'00': 0.4295, '01': 0.103, '10': 0.0885, '11': 0.379}},\n",
       " {'probabilities': {'00': 0.275, '01': 0.262, '10': 0.248, '11': 0.215}},\n",
       " {'probabilities': {'00': 0.2155, '01': 0.2785, '10': 0.316, '11': 0.19}},\n",
       " {'probabilities': {'00': 0.136, '01': 0.3615, '10': 0.385, '11': 0.1175}},\n",
       " {'probabilities': {'00': 0.397, '01': 0.095, '10': 0.129, '11': 0.379}},\n",
       " {'probabilities': {'00': 0.206, '01': 0.298, '10': 0.2825, '11': 0.2135}},\n",
       " {'probabilities': {'00': 0.168, '01': 0.3415, '10': 0.341, '11': 0.1495}},\n",
       " {'probabilities': {'00': 0.1705, '01': 0.3445, '10': 0.3285, '11': 0.1565}},\n",
       " {'probabilities': {'00': 0.379, '01': 0.1425, '10': 0.146, '11': 0.3325}},\n",
       " {'probabilities': {'00': 0.1715, '01': 0.331, '10': 0.3375, '11': 0.16}},\n",
       " {'probabilities': {'00': 0.1185, '01': 0.393, '10': 0.3705, '11': 0.118}},\n",
       " {'probabilities': {'00': 0.1955, '01': 0.293, '10': 0.3325, '11': 0.179}},\n",
       " {'probabilities': {'00': 0.348, '01': 0.17, '10': 0.172, '11': 0.31}},\n",
       " {'probabilities': {'00': 0.1315, '01': 0.3505, '10': 0.3735, '11': 0.1445}},\n",
       " {'probabilities': {'00': 0.1105, '01': 0.39, '10': 0.3995, '11': 0.1}},\n",
       " {'probabilities': {'00': 0.2345, '01': 0.271, '10': 0.2655, '11': 0.229}},\n",
       " {'probabilities': {'00': 0.2975, '01': 0.207, '10': 0.214, '11': 0.2815}},\n",
       " {'probabilities': {'00': 0.132, '01': 0.369, '10': 0.367, '11': 0.132}},\n",
       " {'probabilities': {'00': 0.109, '01': 0.4015, '10': 0.3915, '11': 0.098}},\n",
       " {'probabilities': {'00': 0.249, '01': 0.2275, '10': 0.243, '11': 0.2805}},\n",
       " {'probabilities': {'00': 0.236, '01': 0.259, '10': 0.263, '11': 0.242}},\n",
       " {'probabilities': {'00': 0.1435, '01': 0.3635, '10': 0.369, '11': 0.124}},\n",
       " {'probabilities': {'00': 0.129, '01': 0.374, '10': 0.3955, '11': 0.1015}},\n",
       " {'probabilities': {'00': 0.322, '01': 0.1865, '10': 0.199, '11': 0.2925}},\n",
       " {'probabilities': {'00': 0.2125, '01': 0.2735, '10': 0.3415, '11': 0.1725}},\n",
       " {'probabilities': {'00': 0.152, '01': 0.363, '10': 0.377, '11': 0.108}},\n",
       " {'probabilities': {'00': 0.164, '01': 0.351, '10': 0.3805, '11': 0.1045}},\n",
       " {'probabilities': {'00': 0.3605, '01': 0.163, '10': 0.1555, '11': 0.321}},\n",
       " {'probabilities': {'00': 0.148, '01': 0.333, '10': 0.375, '11': 0.144}},\n",
       " {'probabilities': {'00': 0.172, '01': 0.332, '10': 0.345, '11': 0.151}},\n",
       " {'probabilities': {'00': 0.202, '01': 0.318, '10': 0.3215, '11': 0.1585}},\n",
       " {'probabilities': {'00': 0.3955, '01': 0.125, '10': 0.1225, '11': 0.357}},\n",
       " {'probabilities': {'00': 0.1305, '01': 0.3745, '10': 0.3755, '11': 0.1195}},\n",
       " {'probabilities': {'00': 0.196, '01': 0.302, '10': 0.317, '11': 0.185}},\n",
       " {'probabilities': {'00': 0.2605, '01': 0.2595, '10': 0.267, '11': 0.213}},\n",
       " {'probabilities': {'00': 0.3805, '01': 0.114, '10': 0.1235, '11': 0.382}},\n",
       " {'probabilities': {'00': 0.1165, '01': 0.396, '10': 0.402, '11': 0.0855}},\n",
       " {'probabilities': {'00': 0.238, '01': 0.251, '10': 0.2955, '11': 0.2155}},\n",
       " {'probabilities': {'00': 0.2875, '01': 0.2215, '10': 0.237, '11': 0.254}},\n",
       " {'probabilities': {'00': 0.3925, '01': 0.117, '10': 0.123, '11': 0.3675}},\n",
       " {'probabilities': {'00': 0.124, '01': 0.407, '10': 0.3805, '11': 0.0885}},\n",
       " {'probabilities': {'00': 0.29, '01': 0.23, '10': 0.229, '11': 0.251}},\n",
       " {'probabilities': {'00': 0.3785, '01': 0.164, '10': 0.167, '11': 0.2905}},\n",
       " {'probabilities': {'00': 0.373, '01': 0.138, '10': 0.143, '11': 0.346}},\n",
       " {'probabilities': {'00': 0.14, '01': 0.362, '10': 0.398, '11': 0.1}},\n",
       " {'probabilities': {'00': 0.323, '01': 0.1745, '10': 0.1805, '11': 0.322}},\n",
       " {'probabilities': {'00': 0.3905, '01': 0.1355, '10': 0.1225, '11': 0.3515}},\n",
       " {'probabilities': {'00': 0.354, '01': 0.166, '10': 0.1715, '11': 0.3085}},\n",
       " {'probabilities': {'00': 0.1745, '01': 0.3405, '10': 0.342, '11': 0.143}},\n",
       " {'probabilities': {'00': 0.36, '01': 0.155, '10': 0.169, '11': 0.316}},\n",
       " {'probabilities': {'00': 0.4215, '01': 0.1015, '10': 0.0985, '11': 0.3785}},\n",
       " {'probabilities': {'00': 0.2985, '01': 0.2175, '10': 0.2285, '11': 0.2555}},\n",
       " {'probabilities': {'00': 0.1995, '01': 0.323, '10': 0.301, '11': 0.1765}},\n",
       " {'probabilities': {'00': 0.397, '01': 0.132, '10': 0.1305, '11': 0.3405}},\n",
       " {'probabilities': {'00': 0.427, '01': 0.0735, '10': 0.1035, '11': 0.396}},\n",
       " {'probabilities': {'00': 0.2765, '01': 0.232, '10': 0.256, '11': 0.2355}},\n",
       " {'probabilities': {'00': 0.2695, '01': 0.2455, '10': 0.2685, '11': 0.2165}},\n",
       " {'probabilities': {'00': 0.407, '01': 0.1275, '10': 0.123, '11': 0.3425}}]"
      ]
     },
     "execution_count": 6,
     "metadata": {},
     "output_type": "execute_result"
    }
   ],
   "source": [
    "results = None\n",
    "while results is None:\n",
    "    results = api.get_result(result_id)\n",
    "    sleep(30)\n",
    "results"
   ]
  },
  {
   "cell_type": "markdown",
   "metadata": {},
   "source": [
    "### Process real data"
   ]
  },
  {
   "cell_type": "code",
   "execution_count": 7,
   "metadata": {},
   "outputs": [
    {
     "name": "stderr",
     "output_type": "stream",
     "text": [
      "Your job with id 8695 is completed.\n"
     ]
    }
   ],
   "source": [
    "## retrieve data\n",
    "results = api.get_result(result_id)\n",
    "data_probabilities = process_returned_dataformat(results, nqubits=2)\n",
    "\n",
    "## measurement calibration data processing\n",
    "spam_data_probabilities = data_probabilities[:4]\n",
    "measurement_calibration_weights = np.linalg.inv(spam_data_probabilities)\n",
    "\n",
    "## chsh circuits data processing\n",
    "chsh_data_probabilities = data_probabilities[4:]\n",
    "chsh_data_probabilities_theta = chsh_data_probabilities.reshape(len(THETA_VALUES), 4, 4)\n",
    "\n",
    "\n",
    "## compute witness\n",
    "w1_raw, w2_raw = compute_witnesses(chsh_data_probabilities_theta, measurement_calibration_weights, BELL_STATE, raw=True)\n",
    "w1_corrected, w2_corrected = compute_witnesses(\n",
    "    chsh_data_probabilities_theta, measurement_calibration_weights, BELL_STATE, raw=False\n",
    ")"
   ]
  },
  {
   "cell_type": "markdown",
   "metadata": {},
   "source": [
    "### Run simulation, get ideal witnesses"
   ]
  },
  {
   "cell_type": "code",
   "execution_count": 8,
   "metadata": {},
   "outputs": [
    {
     "name": "stderr",
     "output_type": "stream",
     "text": [
      "[Qibo 0.1.12.dev0|INFO|2024-03-01 00:59:47]: Using numpy backend on /CPU:0\n"
     ]
    }
   ],
   "source": [
    "circ_list = SPAM_circuits(0, 1)\n",
    "ideal_results_spam = np.zeros((len(circ_list), 4))\n",
    "for i, c in enumerate(circ_list):\n",
    "    ideal_results_spam[i] += c.execute().probabilities()\n",
    "ideal_measurement_calibration_weights = np.linalg.inv(ideal_results_spam)\n",
    "\n",
    "circ_list = list(np.copy(all_circuits_chsh))\n",
    "ideal_results_chsh = np.zeros((len(circ_list), 4))\n",
    "for i, c in enumerate(circ_list):\n",
    "    ideal_results_chsh[i] += c.execute().probabilities()\n",
    "\n",
    "ideal_results_chsh_theta = ideal_results_chsh.reshape(len(THETA_VALUES), 4, 4)\n",
    "\n",
    "w1_ideal, w2_ideal = compute_witnesses(\n",
    "    ideal_results_chsh_theta, ideal_measurement_calibration_weights, BELL_STATE, raw=False\n",
    ")"
   ]
  },
  {
   "cell_type": "markdown",
   "metadata": {},
   "source": [
    "### Get error bars"
   ]
  },
  {
   "cell_type": "code",
   "execution_count": 9,
   "metadata": {},
   "outputs": [],
   "source": [
    "def return_mock_results(data_probabilities, ea=1, eb=1):\n",
    "    # returns simulated results using distribution from experimental results' probabilities\n",
    "    mock_results = np.empty(shape=data_probabilities.shape)\n",
    "    # measurement_calibration_weights = np.linalg.inv(data_probabilities[:4])\n",
    "\n",
    "    e_m = np.array([[ea*eb, ea*(1-eb), eb*(1-ea), (1-ea)*(1-eb)],\n",
    "                    [ea*(1-eb), ea*eb, (1-ea)*(1-eb), eb*(1-ea)],\n",
    "                    [eb*(1-ea), (1-ea)*(1-eb), ea*eb, ea*(1-eb)],\n",
    "                    [(1-ea)*(1-eb), ea*(1-eb), eb*(1-ea), ea*eb]])\n",
    "    \n",
    "    for i, _ in enumerate(mock_results):    \n",
    "        mock_results[i] = (stats.multinomial.rvs(NUM_SHOTS, data_probabilities[i]) / NUM_SHOTS) @ np.linalg.inv(e_m)\n",
    "\n",
    "    measurement_calibration_weights = np.linalg.inv(data_probabilities[:4])\n",
    "    mock_results = mock_results[4:]\n",
    "\n",
    "\n",
    "    return list((compute_witnesses(mock_results.reshape(-1, 4, 4), measurement_calibration_weights, BELL_STATE, raw=False) +\n",
    "            compute_witnesses(mock_results.reshape(-1, 4, 4), measurement_calibration_weights, BELL_STATE, raw=True)))\n",
    "    \n",
    "def get_err_bars(mock_results):\n",
    "    data_hist = np.stack(mock_results)\n",
    "    err_bars = np.empty(len(data_hist.T))\n",
    "    for i, hist in enumerate(data_hist.T):\n",
    "        _ , var = stats.norm.fit(hist)\n",
    "        err_bars[i] =np.sqrt(var)\n",
    "    return err_bars\n",
    "\n",
    "# generate n copies of random results\n",
    "err_w1, err_w2, err_w1_unc, err_w2_unc  = [get_err_bars(mock_results) for mock_results in zip(*[return_mock_results(data_probabilities, ea=mfidelity_qc, eb=mfidelity_qt) for _ in range(800)])]"
   ]
  },
  {
   "cell_type": "code",
   "execution_count": 10,
   "metadata": {},
   "outputs": [],
   "source": [
    "data_a = np.array([return_mock_results(data_probabilities) for _ in range(1000)])\n",
    "data_b =np.array([return_mock_results(data_probabilities, ea=mfidelity_qc, eb=mfidelity_qc) for _ in range(1000)])\n",
    "\n",
    "err_sys_w1 = []\n",
    "for data_spam, data_fid in zip(data_a[:,0,:].T, data_b[:,2,:].T):\n",
    "    mean_spam, var_spam = stats.norm.fit(data_spam)\n",
    "    mean_fid, var_fid = stats.norm.fit(data_fid)\n",
    "    err_sys_w1.append(mean_fid - mean_spam)\n",
    "    \n",
    "err_sys_w2 = []\n",
    "for data_spam, data_fid in zip(data_a[:,1,:].T, data_b[:,3,:].T):\n",
    "    mean_spam, var_spam = stats.norm.fit(data_spam)\n",
    "    mean_fid, var_fid = stats.norm.fit(data_fid)\n",
    "    err_sys_w2.append(mean_fid - mean_spam)\n",
    "    \n",
    "err_total_w1 = np.array([[err1, np.sqrt(err1**2+err2**2)] if err2 > 0 else [np.sqrt(err1**2 + err2**2), err1] for err1, err2 in zip(err_w1, err_sys_w1)])\n",
    "err_total_w2 = np.array([[err1, np.sqrt(err1**2+err2**2)] if err2 > 0 else [np.sqrt(err1**2 + err2**2), err1] for err1, err2 in zip(err_w2, err_sys_w2)])"
   ]
  },
  {
   "cell_type": "markdown",
   "metadata": {},
   "source": [
    "### Plot results"
   ]
  },
  {
   "cell_type": "code",
   "execution_count": 12,
   "metadata": {},
   "outputs": [
    {
     "data": {
      "image/png": "[encoded data removed]",
      "text/plain": [
       "<Figure size 1200x600 with 2 Axes>"
      ]
     },
     "metadata": {},
     "output_type": "display_data"
    }
   ],
   "source": [
    "fname = f\"chsh_{CONTROL_QUBIT}_{TARGET_QUBIT}_{BELL_STATE}_nshots{NUM_SHOTS}_jobid{result_id}.png\"\n",
    "savefig = False\n",
    "\n",
    "fig, (ax0, ax1) = plt.subplots(1,2, sharey=True, figsize=(12, 6))\n",
    "\n",
    "ax0.plot(THETA_VALUES, w1_ideal, c=\"C0\", label=\"ideal\")\n",
    "ax0.plot(THETA_VALUES, w1_corrected, \".\", c=\"C0\", label=\"corrected\")\n",
    "ax0.plot(THETA_VALUES, w1_raw, \"x\", ms=3, c=\"C0\", label=\"raw\")\n",
    "ax0.errorbar(THETA_VALUES, w1_corrected, err_total_w1.T, capsize=3, c=\"C0\", ls=\"none\")\n",
    "ax0.set_ylabel(\"witness 1\")\n",
    "\n",
    "\n",
    "ax1.plot(THETA_VALUES, w2_ideal,c=\"C1\", label=\"ideal\")\n",
    "ax1.plot(THETA_VALUES, w2_corrected, \".\", c=\"C1\", label=\"corrected\")\n",
    "ax1.plot(THETA_VALUES, w2_raw, \"x\", ms=3, c=\"C1\", label=\"raw\")\n",
    "ax1.errorbar(THETA_VALUES, w2_corrected, err_total_w2.T, capsize=3, c=\"C1\", ls=\"none\")\n",
    "ax1.set_ylabel(\"witness 2\")\n",
    "\n",
    "for ax in ax0, ax1:\n",
    "    ax.axhline(2, color=\"red\", linestyle=\"--\", label=\"classical bounds\")\n",
    "    ax.axhline(-2, color=\"red\", linestyle=\"--\")\n",
    "    ax.axhline(2 * np.sqrt(2), color=\"k\", linestyle=\"-.\", label=\"quantum bounds\")\n",
    "    ax.axhline(-2 * np.sqrt(2), color=\"k\", linestyle=\"-.\")\n",
    "    ax.set_xlabel(\"$\\\\theta$\")\n",
    "    ax.legend()\n",
    "\n",
    "fig.suptitle(f\"({CONTROL_QUBIT},{TARGET_QUBIT}), chsh bell: {BELL_STATE}\")\n",
    "if savefig:\n",
    "    fig.savefig(fname, bbox_inches=\"tight\")"
   ]
  },
  {
   "cell_type": "code",
   "execution_count": null,
   "metadata": {},
   "outputs": [],
   "source": []
  }
 ],
 "metadata": {
  "kernelspec": {
   "display_name": "LastMile",
   "language": "python",
   "name": "python3"
  },
  "language_info": {
   "codemirror_mode": {
    "name": "ipython",
    "version": 3
   },
   "file_extension": ".py",
   "mimetype": "text/x-python",
   "name": "python",
   "nbconvert_exporter": "python",
   "pygments_lexer": "ipython3",
   "version": "3.10.12"
  }
 },
 "nbformat": 4,
 "nbformat_minor": 2
}
