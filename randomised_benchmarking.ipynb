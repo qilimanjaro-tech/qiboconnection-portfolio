{
 "cells": [
  {
   "cell_type": "markdown",
   "metadata": {},
   "source": [
    "# Randomised Benchmarking"
   ]
  },
  {
   "cell_type": "markdown",
   "metadata": {},
   "source": [
    "We first generate and queue the circuits we need to execute:"
   ]
  },
  {
   "cell_type": "code",
   "execution_count": null,
   "metadata": {},
   "outputs": [],
   "source": [
    "import lmfit as lm\n",
    "import matplotlib.pyplot as plt\n",
    "import numpy as np\n",
    "from clifford_circuits import clifford_circuits\n",
    "from qiboconnection.api import API\n",
    "from qiboconnection.connection import ConnectionConfiguration\n",
    "from tqdm.auto import tqdm\n",
    "\n",
    "# Define constants\n",
    "QUBIT = 4\n",
    "CLIFFORD_GATES = np.arange(1, 200, 20)\n",
    "NUM_SEEDS = 20\n",
    "INVERSE = False\n",
    "\n",
    "circuits = []\n",
    "\n",
    "# Run Randomized Benchmarking\n",
    "for num_cliffords in tqdm(CLIFFORD_GATES, total=len(CLIFFORD_GATES)):\n",
    "    # We generate the circuits\n",
    "    circuits.extend(\n",
    "        clifford_circuits(qubit_idx=QUBIT, num_cliffords=num_cliffords, num_circuits=NUM_SEEDS, inverse=INVERSE)\n",
    "    )\n",
    "\n",
    "# We queue all the jobs\n",
    "result_id = api.execute(circuit=circuits, nshots=1000)"
   ]
  },
  {
   "cell_type": "markdown",
   "metadata": {},
   "source": [
    "Once the jobs have been executed, we can use the cell below to get the probabilities:"
   ]
  },
  {
   "cell_type": "code",
   "execution_count": null,
   "metadata": {},
   "outputs": [],
   "source": [
    "results = api.get_results(result_id)\n",
    "results = np.reshape(results, (-1, NUM_SEEDS))  # Reshape results\n",
    "\n",
    "p0 = []\n",
    "p0_std = []\n",
    "p1 = []\n",
    "p1_std = []\n",
    "\n",
    "for rb_iteration in results:\n",
    "    # For each iteration of the RB, we calculate the mean of the probabilities of all the seeds\n",
    "    temp_p0 = []\n",
    "    temp_p1 = []\n",
    "\n",
    "    for result in rb_iteration:\n",
    "        probs = result[\"probabilities\"]\n",
    "        temp_p0.append(probs[\"0\"])\n",
    "        temp_p1.append(probs[\"1\"])\n",
    "\n",
    "    p0.append(np.mean(temp_p0))\n",
    "    p0_std.append(np.std(temp_p0))\n",
    "    p1.append(np.mean(temp_p1))\n",
    "    p1_std.append(np.std(temp_p1))"
   ]
  },
  {
   "cell_type": "markdown",
   "metadata": {},
   "source": [
    "And now we can fit the results to get the 1Q-gate fidelity:"
   ]
  },
  {
   "cell_type": "code",
   "execution_count": null,
   "metadata": {},
   "outputs": [],
   "source": [
    "# Define fitting function\n",
    "def fit(results):\n",
    "    \"\"\"Fit the experiment results.\"\"\"\n",
    "\n",
    "    NG = 1.875\n",
    "\n",
    "    def fit_exponential(x, ln_p, A, B):\n",
    "        return A * np.exp(-ln_p) ** (x) + B\n",
    "\n",
    "    fit_mod_i = lm.Model(fit_exponential)\n",
    "    fit_mod_i.set_param_hint(\"A\", value=(results.min()) - (results.max()), vary=True)  # might need .flatten\n",
    "    fit_mod_i.set_param_hint(\"B\", value=results.max(), vary=True)  # Values were set with the initial_fit_params_I\n",
    "    fit_mod_i.set_param_hint(\"ln_p\", value=0.1, vary=True)\n",
    "\n",
    "    pars_i = fit_mod_i.make_params()\n",
    "\n",
    "    result_i = fit_mod_i.fit(data=results.flatten(), x=CLIFFORD_GATES, params=pars_i)\n",
    "\n",
    "    ln_p_i = result_i.params[\"ln_p\"].value\n",
    "    A_I = result_i.params[\"A\"].value\n",
    "    B_I = result_i.params[\"B\"].value\n",
    "    # I_fit = fit_exponential(len(rb_i_x), ln_p_I, A_I, B_I)\n",
    "\n",
    "    xi = np.linspace(CLIFFORD_GATES[0], CLIFFORD_GATES[-1], 1000).tolist()  # To smooth the fit\n",
    "    i_fit = [fit_exponential(val, ln_p_i, A_I, B_I) for val in xi]\n",
    "\n",
    "    p_i = np.exp(-ln_p_i)\n",
    "    avg_clifford_fidelity = (1 + p_i) / 2\n",
    "    avg_gate_fidelity = avg_clifford_fidelity ** (1 / NG)\n",
    "\n",
    "    return i_fit, avg_gate_fidelity, avg_clifford_fidelity"
   ]
  },
  {
   "cell_type": "code",
   "execution_count": null,
   "metadata": {},
   "outputs": [],
   "source": [
    "# Fit and plot\n",
    "I_fit, f_cliff, f_gate = fit(np.array(p0))\n",
    "\n",
    "plt.errorbar(CLIFFORD_GATES, p0, yerr=p0_std, capsize=10, fmt=\"o\", color=\"blue\", label=\"Error bars\")\n",
    "plt.plot(CLIFFORD_GATES, p0, \"o--\", label=\"Probabilities\")\n",
    "plt.plot(np.linspace(min(CLIFFORD_GATES), max(CLIFFORD_GATES), 1000), I_fit, \"r\", label=f\"Fidelity: {f_gate:.5f}\")\n",
    "plt.xlabel(\"Number of Clifford gates\")\n",
    "plt.ylabel(\"P0\")\n",
    "plt.legend()\n",
    "plt.show()"
   ]
  }
 ],
 "metadata": {
  "kernelspec": {
   "display_name": "Python 3",
   "language": "python",
   "name": "python3"
  },
  "language_info": {
   "name": "python",
   "version": "3.11.5"
  }
 },
 "nbformat": 4,
 "nbformat_minor": 2
}
