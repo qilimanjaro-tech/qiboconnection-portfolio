{
 "cells": [
  {
   "cell_type": "markdown",
   "metadata": {},
   "source": [
    "# Compute the state matrix"
   ]
  },
  {
   "cell_type": "code",
   "execution_count": null,
   "metadata": {},
   "outputs": [],
   "source": [
    "import matplotlib.pyplot as plt\n",
    "import numpy as np\n",
    "from qibo.gates import M, X\n",
    "from qibo.models import Circuit\n",
    "from qiboconnection.api import API\n",
    "from qiboconnection.connection import ConnectionConfiguration\n",
    "from tqdm.auto import tqdm\n",
    "\n",
    "api = API(ConnectionConfiguration(username=\"qat\", api_key=\"meow\"))\n",
    "api.select_device_id(9)"
   ]
  },
  {
   "cell_type": "markdown",
   "metadata": {},
   "source": [
    "We first generate and queue the circuits we need to execute:"
   ]
  },
  {
   "cell_type": "code",
   "execution_count": null,
   "metadata": {},
   "outputs": [],
   "source": [
    "def prepare_eigenstate(eigenstate) -> Circuit:\n",
    "    \"\"\"Prepares the given eigenstate (from 0 to 32) as a Qibo circuit.\n",
    "\n",
    "    Args:\n",
    "        number (int): Eigenstate between 0 and 32.\n",
    "\n",
    "    Returns:\n",
    "        Circuit: Qibo circuit measuring the given eigenstate.\n",
    "    \"\"\"\n",
    "    binary_string = bin(eigenstate)[2:].zfill(5)  # Convert and pad with leading zeros\n",
    "    circuit = Circuit(5)\n",
    "    for index, bit in enumerate(binary_string):\n",
    "        if bit == \"1\":\n",
    "            circuit.add(X(index))\n",
    "    for index in range(5):\n",
    "        circuit.add(M(index))\n",
    "    return circuit"
   ]
  },
  {
   "cell_type": "code",
   "execution_count": null,
   "metadata": {},
   "outputs": [],
   "source": [
    "states = np.arange(32)\n",
    "circuits = [prepare_eigenstate(state) for state in np.arange(32)]\n",
    "\n",
    "result_idx = api.execute(circuits, nshots=1000)\n",
    "\n",
    "print(f\"The id of the executed job is: {results_id}\")"
   ]
  },
  {
   "cell_type": "markdown",
   "metadata": {},
   "source": [
    "Once the jobs have been executed, we can use the cell below to plot the state matrix:"
   ]
  },
  {
   "cell_type": "code",
   "execution_count": null,
   "metadata": {},
   "outputs": [],
   "source": [
    "results = api.get_results(results_id)\n",
    "\n",
    "for result, state in zip(results, states):\n",
    "    for key, value in result[\"probabilities\"].items():\n",
    "        prob_matrix[state, int(key, 2)] = value\n",
    "\n",
    "\n",
    "plt.imshow(prob_matrix, cmap=\"hot\")\n",
    "plt.xlabel(\"Measured State\")\n",
    "plt.ylabel(\"Prepared State\")\n",
    "plt.colorbar()\n",
    "plt.title(\"Probabilities Heatmap\")\n",
    "plt.show()"
   ]
  }
 ],
 "metadata": {
  "kernelspec": {
   "display_name": "Python 3",
   "language": "python",
   "name": "python3"
  },
  "language_info": {
   "name": "python",
   "version": "3.11.5"
  }
 },
 "nbformat": 4,
 "nbformat_minor": 2
}
