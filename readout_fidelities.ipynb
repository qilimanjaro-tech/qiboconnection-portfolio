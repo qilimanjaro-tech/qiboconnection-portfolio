{
 "cells": [
  {
   "cell_type": "markdown",
   "metadata": {},
   "source": [
    "# Compute the readout fidelity of all qubits"
   ]
  },
  {
   "cell_type": "code",
   "execution_count": null,
   "metadata": {},
   "outputs": [],
   "source": [
    "import numpy as np\n",
    "from qibo.gates import M, X\n",
    "from qibo.models import Circuit\n",
    "from qiboconnection.api import API\n",
    "from qiboconnection.connection import ConnectionConfiguration\n",
    "\n",
    "api = API(ConnectionConfiguration(username=\"qat\", api_key=\"meow\"))\n",
    "api.select_device_id(9)"
   ]
  },
  {
   "cell_type": "markdown",
   "metadata": {},
   "source": [
    "We first generate and queue the circuits we need to execute:"
   ]
  },
  {
   "cell_type": "code",
   "execution_count": null,
   "metadata": {},
   "outputs": [],
   "source": [
    "circuits = []\n",
    "qubits = np.arange(5)\n",
    "for qubit in qubits:\n",
    "    circuit0 = Circuit(5)\n",
    "    circuit0.add(M(qubit))\n",
    "\n",
    "    circuit1 = Circuit(5)\n",
    "    circuit1.add(X(qubit))\n",
    "    circuit1.add(M(qubit))\n",
    "    \n",
    "    circuits.extend([circuit0, circuit1])\n",
    "\n",
    "results_id = api.execute(circuits, nshots=1000)\n",
    "\n",
    "print(f\"The id of the executed job is: {results_id}\")"
   ]
  },
  {
   "cell_type": "markdown",
   "metadata": {},
   "source": [
    "Once the jobs have been executed, we can use the cell below to compute the readout fidelities:"
   ]
  },
  {
   "cell_type": "code",
   "execution_count": null,
   "metadata": {},
   "outputs": [],
   "source": [
    "results = api.get_results(results_id)\n",
    "for qubit_idx in qubits:\n",
    "    # We take the pair of results that correspond to the specific qubit\n",
    "    results0 = results[qubit_idx * 2]\n",
    "    results1 = results[qubit_idx * 2 + 1]\n",
    "\n",
    "    clf_0 = (1 - results0[\"probabilities\"][\"0\"] + results0[\"probabilities\"][\"1\"]) / 2\n",
    "    clf_1 = (1 - results1[\"probabilities\"][\"0\"] + results1[\"probabilities\"][\"1\"]) / 2\n",
    "    fid_avg = (1 - clf_0 + clf_1) / 2\n",
    "    print(f\"### QUBIT: {qubit_idx} ###\")\n",
    "    print(f\"Ground state: {results0}\")\n",
    "    print(f\"Excited state: {results1}\")\n",
    "    print(\"Fidelity\", fid_avg)\n"
   ]
  }
 ],
 "metadata": {
  "language_info": {
   "name": "python"
  }
 },
 "nbformat": 4,
 "nbformat_minor": 2
}
