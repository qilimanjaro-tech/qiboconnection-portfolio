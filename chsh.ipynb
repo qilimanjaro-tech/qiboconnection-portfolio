{
 "cells": [
  {
   "cell_type": "code",
   "execution_count": 1,
   "metadata": {},
   "outputs": [],
   "source": [
    "import matplotlib.pyplot as plt\n",
    "import numpy as np\n",
    "from qibo.gates import M, X, RY, CZ, I\n",
    "from qibo.models import Circuit\n",
    "from qiboconnection.api import API\n",
    "from qiboconnection.connection import ConnectionConfiguration\n",
    "\n",
    "api = API(ConnectionConfiguration(username=\"qat\", api_key=\"meow\"))\n",
    "api.select_device_id(9)"
   ]
  },
  {
   "cell_type": "markdown",
   "metadata": {},
   "source": [
    "## To-do's\n",
    " - See which bell states correspond to which inequalities\n",
    " - Check double RY rotation on control qubit in get_decoder_circuits\n",
    " - Continue changing the format"
   ]
  },
  {
   "cell_type": "markdown",
   "metadata": {},
   "source": [
    "psi minus "
   ]
  },
  {
   "cell_type": "code",
   "execution_count": 2,
   "metadata": {},
   "outputs": [],
   "source": [
    "CONTROL_QUBIT = 2\n",
    "TARGET_QUBIT = 4\n",
    "THETA_VALUES = np.linspace(-np.pi, np.pi, num=20)\n",
    "BELL_STATE = \"psi_minus\"\n",
    "CALIBRATE = False\n",
    "\n",
    "M_BUFFER_TIME = 0\n",
    "HW_AVG = 1\n",
    "REPETITION_DURATION = 200_000\n",
    "NUM_SHOTS = 2000\n",
    "PLATFORM_PATH = \"../../QuantumPainHackathon/runcards/soprano_master_galadriel_main.yml\""
   ]
  },
  {
   "cell_type": "code",
   "execution_count": 3,
   "metadata": {},
   "outputs": [],
   "source": [
    "def get_chsh_circuit(bell_state, control_qubit, target_qubit):\n",
    "    assert bell_state in (\"phi_plus\", \"phi_minus\", \"psi_plus\", \"psi_minus\"), \"bell_state should be phi_plus, phi_minus, psi_plus, psi_minus\"\n",
    "    nqubits = max(control_qubit, target_qubit) + 1\n",
    "    circuit = Circuit(nqubits)\n",
    "\n",
    "    if bell_state == \"phi_plus\" or bell_state == \"psi_minus\":\n",
    "        G1 = RY(control_qubit, theta=-np.pi/2)\n",
    "    else:\n",
    "        G1 = RY(control_qubit, theta=np.pi/2)\n",
    "    if bell_state == \"phi_plus\" or bell_state == \"phi_minus\":\n",
    "        G2_prime = RY(target_qubit, theta=-np.pi/2)\n",
    "    else:\n",
    "        G2_prime = RY(target_qubit, theta=np.pi/2)\n",
    "\n",
    "    circuit.add(G1) # gate 0\n",
    "    circuit.add(RY(target_qubit, theta=np.pi/2)) # gate 1\n",
    "    circuit.add(CZ(control_qubit, target_qubit)) # gate 2\n",
    "    circuit.add(G2_prime) # gate 3\n",
    "    return circuit\n",
    "\n",
    "\n",
    "def get_decoder_circuits(control_qubit, target_qubit):\n",
    "    # ZZ measurments\n",
    "    nqubits = max(control_qubit, target_qubit) + 1\n",
    "    circuit = Circuit(nqubits)\n",
    "\n",
    "    # add parameterized RY for measurment\n",
    "    circuit.add(RY(control_qubit, theta=0))\n",
    "    # add rotations to mimick I or H for change of measurment basis\n",
    "    circuit.add(RY(control_qubit, theta=0)) ## FIXME: there are two repeated RYs here\n",
    "    circuit.add(RY(target_qubit, theta=0))\n",
    "    circuit.add(M(control_qubit, target_qubit))\n",
    "\n",
    "    return circuit"
   ]
  },
  {
   "cell_type": "code",
   "execution_count": 4,
   "metadata": {},
   "outputs": [],
   "source": [
    "\"\"\" code copied from Ana's state tomography code \"\"\"\n",
    "from itertools import product\n",
    "from scipy.optimize import minimize\n",
    "\n",
    "def get_measurement_calibration_bitstrings(processed_data, wlsq_stds=None, initial_guess=None):\n",
    "    \"\"\"\n",
    "    Returns a 4x4 matrix that takes in the measured bitstring probabilities in the order 00, 01, 10, 11 (as (1, 4) vectors)\n",
    "    and turns them into the corrected probabilities of measuring 00, 01, 10, 11.\n",
    "    Args:\n",
    "        processed data (array): array of shape (ncircuits=4, nbitstrings=4) containing the measured probabilities of\n",
    "                                    finding the 4 basis states for each basis preparation circuit.\n",
    "        wlsq_stds (array|None): only not None if we want to do statistics over several subsets of data within the number\n",
    "                                of bins. We are not taking that many measurements anyway at the moment, so currently we\n",
    "                                don't gain much from it.\n",
    "        initial_guess (array|None): only considered if wlsq_stds is not None. Initial guess required by the optimizer, if None\n",
    "                                    it defaults to the independent term.\n",
    "    \"\"\"\n",
    "\n",
    "    coeff_matrix = np.zeros((16, 16))\n",
    "    ideal_measurements = np.eye(4).flatten()\n",
    "    for alpha, (experiment_index, bitstring_index) in enumerate(product(range(4), range(4))):\n",
    "        data_currentcirc = processed_data[experiment_index]\n",
    "        coeff_matrix[alpha, bitstring_index*4 : 4*(bitstring_index+1)] += data_currentcirc\n",
    "\n",
    "    ## Solve linear system and solve it\n",
    "    independent_term = ideal_measurements\n",
    "    if wlsq_stds is None:\n",
    "        calibration_matrix = np.linalg.solve(coeff_matrix, independent_term)\n",
    "    else:\n",
    "        if initial_guess is None:\n",
    "            initial_guess = independent_term\n",
    "\n",
    "        def residuals_weighted_least_squares(x):\n",
    "            \"\"\" We define the chisq function here in order to optimise the least squares with weights.\"\"\"\n",
    "            return np.sum( ((independent_term - coeff_matrix @ x) / wlsq_stds )**2 )\n",
    "\n",
    "        res = minimize(fun=residuals_weighted_least_squares, x0=initial_guess)\n",
    "        calibration_matrix = res.x\n",
    "\n",
    "    return calibration_matrix.reshape(4, 4)"
   ]
  },
  {
   "cell_type": "code",
   "execution_count": 5,
   "metadata": {},
   "outputs": [],
   "source": [
    "chsh_circuit = get_chsh_circuit(BELL_STATE, CONTROL_QUBIT, TARGET_QUBIT)\n",
    "decoder_circuit = get_decoder_circuits(CONTROL_QUBIT, TARGET_QUBIT)\n",
    "circuit = chsh_circuit + decoder_circuit"
   ]
  },
  {
   "cell_type": "code",
   "execution_count": 6,
   "metadata": {},
   "outputs": [
    {
     "name": "stderr",
     "output_type": "stream",
     "text": [
      "[Qibo 0.1.12.dev0|INFO|2023-10-18 17:38:14]: Using numpy backend on /CPU:0\n"
     ]
    },
    {
     "name": "stdout",
     "output_type": "stream",
     "text": [
      "[('ry', (2,), (-1.5707963267948966,)), ('ry', (4,), (1.5707963267948966,)), ('cz', (2, 4), ()), ('ry', (4,), (1.5707963267948966,)), ('measure', (2, 4), ())]\n",
      "(0.70711+0j)|00001> + (-0.70711+0j)|00100>\n"
     ]
    }
   ],
   "source": [
    "chsh_circuit.add(M(CONTROL_QUBIT, TARGET_QUBIT))\n",
    "print([(gate.name, gate.qubits, gate.parameters) for gate in chsh_circuit.queue])\n",
    "print(chsh_circuit())"
   ]
  },
  {
   "cell_type": "code",
   "execution_count": 8,
   "metadata": {},
   "outputs": [],
   "source": [
    "def SPAM_circuits(control_qubit, target_qubit):\n",
    "    \"\"\" Circuits to get the SPAM matrix in order to perform measurment correction. \"\"\"\n",
    "    calibration_circuits = []\n",
    "    for gate_a in [I, X]:\n",
    "        for gate_b in [I, X]:\n",
    "            calibration_circuit = Circuit(5)\n",
    "            calibration_circuit.add(gate_a(control_qubit))\n",
    "            calibration_circuit.add(gate_b(target_qubit))\n",
    "            calibration_circuit.add(M(control_qubit, target_qubit))\n",
    "\n",
    "            calibration_circuits.append(calibration_circuit)\n",
    "    return calibration_circuits"
   ]
  },
  {
   "cell_type": "markdown",
   "metadata": {},
   "source": [
    "# VAMOS POR AQUÍ EN LA CONVERSIÓN AL FORMATO DE QIBOCONNECTION"
   ]
  },
  {
   "cell_type": "code",
   "execution_count": 9,
   "metadata": {},
   "outputs": [
    {
     "data": {
      "application/vnd.jupyter.widget-view+json": {
       "model_id": "afe2a09b54434598a85fd4c904b28fe2",
       "version_major": 2,
       "version_minor": 0
      },
      "text/plain": [
       "Angle:   0%|          | 0/10 [00:00<?, ?it/s]"
      ]
     },
     "metadata": {},
     "output_type": "display_data"
    }
   ],
   "source": [
    "# Run experiment\n",
    "chsh_result_theta = []\n",
    "calibration_result_theta = []\n",
    "\n",
    "for theta in tqdm(iterable=THETA_VALUES, total=len(THETA_VALUES), desc=\"Angle\"):\n",
    "    chsh_result = []\n",
    "    for basis_angle_control in [0, -np.pi / 2]:\n",
    "        for basis_angle_target in [0, -np.pi / 2]:\n",
    "            circuit.set_parameters({circuit.queue[-5]: (theta)})\n",
    "            circuit.set_parameters({circuit.queue[-4]: (basis_angle_control)})\n",
    "            circuit.set_parameters({circuit.queue[-3]: (basis_angle_target)})\n",
    "\n",
    "            t_circuit = ql.translate_circuit(circuit)\n",
    "            result = platform.execute(program=t_circuit,\n",
    "                                      num_avg=HW_AVG,\n",
    "                                      repetition_duration=REPETITION_DURATION,\n",
    "                                      num_bins=NUM_SHOTS)\n",
    "            chsh_result.append(result.counts())\n",
    "\n",
    "    # TODO is it overkill to calibrate for each value of theta?\n",
    "    if CALIBRATE:\n",
    "        calibration_result = []\n",
    "        for i, cali_circuit in enumerate(calibration_circuits):\n",
    "            cali_circuit_transpiled = ql.translate_circuit(cali_circuit)\n",
    "            cali_result = platform.execute(program=cali_circuit_transpiled,\n",
    "                                            num_avg=HW_AVG,\n",
    "                                            repetition_duration=REPETITION_DURATION,\n",
    "                                            num_bins=NUM_SHOTS)\n",
    "            calibration_result.append(cali_result.counts())\n",
    "\n",
    "    chsh_result_theta.append(chsh_result)\n",
    "    if CALIBRATE:\n",
    "        calibration_result_theta.append(calibration_result)\n",
    "\n",
    "#chsh_results = np.hstack(chsh_results)\n",
    "#calibration_results = np.hstack(calibration_results)"
   ]
  },
  {
   "cell_type": "code",
   "execution_count": 10,
   "metadata": {},
   "outputs": [],
   "source": [
    "# post-process data for each value of theta\n",
    "if CALIBRATE:\n",
    "    measurement_calibration_matrices_theta = []\n",
    "    for calibration_result in calibration_result_theta:\n",
    "        # obtain matrix of probabilities - four bitstring for each of the four circuits\n",
    "        probability_matrix = np.zeros([4, 4])\n",
    "        for i in range(4):\n",
    "            probability_matrix[i, 0] = calibration_result[i][\"00\"]\n",
    "            probability_matrix[i, 1] = calibration_result[i][\"01\"]\n",
    "            probability_matrix[i, 2] = calibration_result[i][\"10\"]\n",
    "            probability_matrix[i, 3] = calibration_result[i][\"11\"]\n",
    "        # normalize counts to probabilites\n",
    "        probability_matrix = probability_matrix / probability_matrix.sum(axis=1)\n",
    "\n",
    "        calibration_matrix = get_measurement_calibration_bitstrings(probability_matrix)\n",
    "        measurement_calibration_matrices_theta.append(calibration_matrix)"
   ]
  },
  {
   "cell_type": "code",
   "execution_count": 11,
   "metadata": {},
   "outputs": [],
   "source": [
    "chsh_witness1_theta = []\n",
    "chsh_witness2_theta = []\n",
    "\n",
    "for idx, chsh_result in enumerate(chsh_result_theta):\n",
    "#for chsh_result in chsh_result_theta:\n",
    "    # obtain matrix of probabilities - four bitstring for each of the four circuits\n",
    "    probability_matrix = np.zeros((4, 4))\n",
    "    for i, measurement_result in enumerate(chsh_result):\n",
    "        probability_matrix[0, i] = measurement_result[\"00\"]\n",
    "        probability_matrix[1, i] = measurement_result[\"01\"]\n",
    "        probability_matrix[2, i] = measurement_result[\"10\"]\n",
    "        probability_matrix[3, i] = measurement_result[\"11\"]\n",
    "    # normalize counts to probabilities\n",
    "    probability_matrix = probability_matrix / probability_matrix.sum(axis=0)\n",
    "\n",
    "    # apply measurement calibration\n",
    "    if CALIBRATE:\n",
    "        corrected_probabilty = measurement_calibration_matrices_theta[idx] @ probability_matrix\n",
    "    else:\n",
    "        corrected_probabilty = probability_matrix\n",
    "\n",
    "    # calculate expectation values from probabilities\n",
    "    expectations = np.array([1, -1, -1, 1]).T @ corrected_probabilty\n",
    "\n",
    "    # compute witnesses\n",
    "    # TODO: change sign to other expectation indices depending on the bell state\n",
    "    witness1 = expectations[0] + expectations[1] - expectations[2] + expectations[3]\n",
    "    witness2 = expectations[0] - expectations[1] + expectations[2] + expectations[3]\n",
    "    chsh_witness1_theta.append(witness1)\n",
    "    chsh_witness2_theta.append(witness2)"
   ]
  },
  {
   "cell_type": "code",
   "execution_count": 12,
   "metadata": {},
   "outputs": [
    {
     "data": {
      "text/plain": [
       "<matplotlib.legend.Legend at 0x7f046bb8a230>"
      ]
     },
     "execution_count": 12,
     "metadata": {},
     "output_type": "execute_result"
    },
    {
     "data": {
      "image/png": "[encoded data removed]",
      "text/plain": [
       "<Figure size 640x480 with 1 Axes>"
      ]
     },
     "metadata": {},
     "output_type": "display_data"
    }
   ],
   "source": [
    "plt.plot(THETA_VALUES, chsh_witness1_theta, \"o--\", label=\"witness 1\")\n",
    "plt.plot(THETA_VALUES, chsh_witness2_theta, \"o--\", label=\"witness 2\")\n",
    "plt.xlabel(r\"$\\theta$\")\n",
    "plt.ylabel(\"CHSH witness\")\n",
    "plt.axhline(2, color=\"red\", linestyle=\"--\", label=\"classical bounds\")\n",
    "plt.axhline(-2, color=\"red\", linestyle=\"--\")\n",
    "plt.axhline(2*np.sqrt(2), color=\"blue\", linestyle=\"-.\", label=\"quantum bounds\")\n",
    "plt.axhline(-2*np.sqrt(2), color=\"blue\", linestyle=\"-.\")\n",
    "plt.legend()\n",
    "# plt.savefig(\"chsh_result_no_calibration.png\")"
   ]
  },
  {
   "cell_type": "code",
   "execution_count": 13,
   "metadata": {},
   "outputs": [],
   "source": [
    "#np.save(\"chsh_theta_results\", chsh_result_theta)\n",
    "#np.save(\"calibration_results_theta\", calibration_result_theta)\n",
    "#np.save(\"theta_range\", THETA_VALUES)"
   ]
  },
  {
   "cell_type": "code",
   "execution_count": null,
   "metadata": {},
   "outputs": [],
   "source": []
  },
  {
   "cell_type": "code",
   "execution_count": null,
   "metadata": {},
   "outputs": [],
   "source": []
  }
 ],
 "metadata": {
  "kernelspec": {
   "display_name": "LastMile",
   "language": "python",
   "name": "python3"
  },
  "language_info": {
   "codemirror_mode": {
    "name": "ipython",
    "version": 3
   },
   "file_extension": ".py",
   "mimetype": "text/x-python",
   "name": "python",
   "nbconvert_exporter": "python",
   "pygments_lexer": "ipython3",
   "version": "3.10.13"
  }
 },
 "nbformat": 4,
 "nbformat_minor": 2
}
