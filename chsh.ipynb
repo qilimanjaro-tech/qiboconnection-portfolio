{
 "cells": [
  {
   "cell_type": "code",
   "execution_count": 1,
   "metadata": {},
   "outputs": [],
   "source": [
    "import matplotlib.pyplot as plt\n",
    "import numpy as np\n",
    "from qibo.gates import M, X, RY, CZ, I, H\n",
    "from qibo.models import Circuit\n",
    "from qiboconnection.api import API\n",
    "from qiboconnection.connection import ConnectionConfiguration\n",
    "\n",
    "from benchmarks.utils.qst_qpt_helper_functions import process_returned_dataformat\n",
    "\n",
    "from itertools import product\n",
    "api = API(ConnectionConfiguration(username=\"qat\", api_key=\"meow\"))\n",
    "\n",
    "\n",
    "api.select_device_id(9)"
   ]
  },
  {
   "cell_type": "markdown",
   "metadata": {},
   "source": [
    "## To-do's\n",
    " - Continue changing the format"
   ]
  },
  {
   "cell_type": "code",
   "execution_count": 52,
   "metadata": {},
   "outputs": [],
   "source": [
    "CONTROL_QUBIT = 2\n",
    "TARGET_QUBIT = 4\n",
    "THETA_VALUES = np.linspace(-np.pi, np.pi, num=20)\n",
    "BELL_STATE = \"psi_minus\"\n",
    "\n",
    "NUM_SHOTS = 2000"
   ]
  },
  {
   "cell_type": "code",
   "execution_count": 4,
   "metadata": {},
   "outputs": [],
   "source": [
    "def get_chsh_circuits(bell_state, control_qubit, target_qubit, theta):\n",
    "    assert bell_state in (\"phi_plus\", \"phi_minus\", \"psi_plus\", \"psi_minus\"), \"bell_state should be phi_plus, phi_minus, psi_plus, psi_minus\"\n",
    "    nqubits = max(control_qubit, target_qubit) + 1\n",
    "    \n",
    "    circuits = []\n",
    "    for (gate_a, gate_b) in product([I, H], repeat = 2):\n",
    "        circuit = Circuit(nqubits)\n",
    "\n",
    "        if bell_state == \"phi_plus\" or bell_state == \"psi_minus\":\n",
    "            G1 = RY(control_qubit, theta=-np.pi/2)\n",
    "        else:\n",
    "            G1 = RY(control_qubit, theta=np.pi/2)\n",
    "        if bell_state == \"phi_plus\" or bell_state == \"phi_minus\":\n",
    "            G2_prime = RY(target_qubit, theta=-np.pi/2)\n",
    "        else:\n",
    "            G2_prime = RY(target_qubit, theta=np.pi/2)\n",
    "        ## build bell state\n",
    "        circuit.add(G1) \n",
    "        circuit.add(RY(target_qubit, theta=np.pi/2)) \n",
    "        circuit.add(CZ(control_qubit, target_qubit))\n",
    "        circuit.add(G2_prime)\n",
    "        \n",
    "        ## decoder part\n",
    "        circuit.add(RY(control_qubit, theta=theta)) ## FIXME: there are two repeated RYs here --> it should be like that, no panicking\n",
    "        circuit.add(gate_a(control_qubit)) \n",
    "        circuit.add(gate_b(target_qubit))\n",
    "        circuit.add(M(control_qubit, target_qubit))\n",
    "        \n",
    "        circuits.append(circuit)\n",
    "    \n",
    "    return circuits\n",
    "\n",
    "def SPAM_circuits(control_qubit, target_qubit):\n",
    "    \"\"\" Circuits to get the SPAM matrix in order to perform measurment correction. \"\"\"\n",
    "    calibration_circuits = []\n",
    "    for (gate_a, gate_b) in product([I, X], repeat=2):\n",
    "        calibration_circuit = Circuit(5)\n",
    "        calibration_circuit.add(gate_a(control_qubit))\n",
    "        calibration_circuit.add(gate_b(target_qubit))\n",
    "        calibration_circuit.add(M(control_qubit, target_qubit))\n",
    "\n",
    "        calibration_circuits.append(calibration_circuit)\n",
    "    return calibration_circuits\n",
    "\n",
    "def compute_witnesses(chsh_results, measurement_calibration_weights, BELL_STATE, raw=False):\n",
    "    \"\"\"Returns arrays of computed witness values.\n",
    "\n",
    "    Args:\n",
    "        chsh_results (array): matrix containing the probabilities the chsh circuits. It must be \n",
    "                        of dimensions len(theta_values) x 4 (decoder circuits) x 4 (probabilities)\n",
    "        measurement_calibration_weights (array): measurement calibration matrix.\n",
    "        BELL_STATE (string): can be \"phi_plus\", \"phi_minus\", \"psi_plus\" or \"psi_minus\". It needs \n",
    "                            to be specified because the witness isn't the same for all 4 Bell states.\n",
    "        raw (bool): whether or not calculate the witnesses from the raw data instead of applying the \n",
    "                    measurement corrections. Defaults to False.\n",
    "    Returns:\n",
    "        witness1 (array): array length len(theta_values) containing the first witness\n",
    "        witness2 (array): array length len(theta_values) containing the second witness\n",
    "    \"\"\"\n",
    "    len_theta_values = np.shape(chsh_results)[0]\n",
    "    witness1 = np.zeros(len_theta_values)\n",
    "    witness2 = np.zeros(len_theta_values)\n",
    "    \n",
    "    if BELL_STATE == \"phi_plus\" or BELL_STATE == \"psi_minus\":\n",
    "        signs1 = np.array([1, 1, -1, 1])\n",
    "        signs2 = np.array([1, -1, 1, 1])\n",
    "    else:\n",
    "        signs1 = np.array([-1, 1, 1, 1])\n",
    "        signs2 = np.array([1, 1, 1, -1])\n",
    "\n",
    "    for i, chsh_result in enumerate(chsh_results):\n",
    "\n",
    "        if raw is not False:\n",
    "            # apply measurement calibration\n",
    "            chsh_result = measurement_calibration_weights @ chsh_result.T\n",
    "        \n",
    "        # calculate expectation values from probabilities\n",
    "        expectations = np.array([1, -1, -1, 1]).T @ chsh_result\n",
    "\n",
    "        # compute witnesses\n",
    "        witness1[i] = signs1.T @ expectations\n",
    "        witness2[i] = signs2.T @ expectations\n",
    "    return witness1, witness2"
   ]
  },
  {
   "cell_type": "markdown",
   "metadata": {},
   "source": [
    "### Build circuits for CHSH and measurement correction"
   ]
  },
  {
   "cell_type": "code",
   "execution_count": 53,
   "metadata": {},
   "outputs": [],
   "source": [
    "chsh_result_theta = []\n",
    "calibration_result_theta = []\n",
    "\n",
    "all_circuits_chsh = []\n",
    "for theta in THETA_VALUES:\n",
    "    circuits_th = get_chsh_circuits(BELL_STATE, CONTROL_QUBIT, TARGET_QUBIT, theta)\n",
    "    all_circuits_chsh.extend(circuits_th)\n",
    "    \n",
    "spam_circuits = SPAM_circuits(CONTROL_QUBIT, TARGET_QUBIT)\n"
   ]
  },
  {
   "cell_type": "markdown",
   "metadata": {},
   "source": [
    "### Run simulation, get ideal witnesses"
   ]
  },
  {
   "cell_type": "code",
   "execution_count": 54,
   "metadata": {},
   "outputs": [],
   "source": [
    "circ_list = spam_circuits\n",
    "ideal_results_spam = np.zeros((len(circ_list), 4))\n",
    "for i, c in enumerate(circ_list):\n",
    "    ideal_results_spam[i] += c.execute().probabilities()\n",
    "ideal_measurement_calibration_weights = np.linalg.inv(ideal_results_spam)\n",
    "    \n",
    "circ_list = all_circuits_chsh\n",
    "ideal_results_chsh = np.zeros((len(circ_list), 4))\n",
    "for i, c in enumerate(circ_list):\n",
    "    ideal_results_chsh[i] += c.execute().probabilities()\n",
    "\n",
    "ideal_results_chsh_theta = ideal_results_chsh.reshape(len(THETA_VALUES), 4, 4)\n",
    "\n",
    "w1_ideal, w2_ideal = compute_witnesses(ideal_results_chsh_theta, ideal_measurement_calibration_weights, BELL_STATE)"
   ]
  },
  {
   "cell_type": "markdown",
   "metadata": {},
   "source": [
    "### Run circuits"
   ]
  },
  {
   "cell_type": "code",
   "execution_count": 16,
   "metadata": {},
   "outputs": [
    {
     "name": "stdout",
     "output_type": "stream",
     "text": [
      "id chsh 5957\n",
      "id SPAM 5958\n"
     ]
    }
   ],
   "source": [
    "result_id_chsh = api.execute(all_circuits_chsh, nshots=NUM_SHOTS)[0]\n",
    "result_id_spam = api.execute(spam_circuits, nshots=NUM_SHOTS)[0]\n",
    "print('id chsh', result_id_chsh)\n",
    "print('id SPAM', result_id_spam)"
   ]
  },
  {
   "cell_type": "code",
   "execution_count": null,
   "metadata": {},
   "outputs": [],
   "source": [
    "# result_id_chsh = 5957\n",
    "# result_id_spam = 5958"
   ]
  },
  {
   "cell_type": "markdown",
   "metadata": {},
   "source": [
    "Saving IDs to markdown cell:\n",
    "id chsh 5957\n",
    "id SPAM 5958"
   ]
  },
  {
   "cell_type": "markdown",
   "metadata": {},
   "source": [
    "### Process real data"
   ]
  },
  {
   "cell_type": "code",
   "execution_count": null,
   "metadata": {},
   "outputs": [],
   "source": [
    "## measurement calibration data processing\n",
    "spam_results = api.get_result(result_id_spam)\n",
    "spam_data_probabilities = process_returned_dataformat(spam_results, nqubits=2)\n",
    "measurement_calibration_weights = np.linalg.inv(spam_data_probabilities)\n",
    "\n",
    "## chsh data processing\n",
    "chsh_results = api.get_result(result_id_chsh)\n",
    "chsh_data_probabilities = process_returned_dataformat(chsh_results, nqubits=2)\n",
    "chsh_data_probabilities\n",
    "\n",
    "chsh_data_probabilities_theta = chsh_data_probabilities.reshape(len(THETA_VALUES), 4, 4)\n",
    "\n",
    "w1_raw, w2_raw = compute_witnesses(chsh_data_probabilities, measurement_calibration_weights, BELL_STATE, raw=True)\n",
    "w1_corrected, w2_corrected = compute_witnesses(chsh_data_probabilities, measurement_calibration_weights, BELL_STATE, raw=False)"
   ]
  },
  {
   "cell_type": "markdown",
   "metadata": {},
   "source": [
    "### Plot results"
   ]
  },
  {
   "cell_type": "code",
   "execution_count": 55,
   "metadata": {},
   "outputs": [
    {
     "data": {
      "text/plain": [
       "Text(0, 0.5, 'witness 1 (blue), witness 2 (red)')"
      ]
     },
     "execution_count": 55,
     "metadata": {},
     "output_type": "execute_result"
    },
    {
     "data": {
      "image/png": "[encoded data removed]",
      "text/plain": [
       "<Figure size 640x480 with 1 Axes>"
      ]
     },
     "metadata": {},
     "output_type": "display_data"
    }
   ],
   "source": [
    "fig, ax = plt.subplots()\n",
    "ax.axhline(2, color=\"red\", linestyle=\"--\", label=\"classical bounds\")\n",
    "ax.axhline(-2, color=\"red\", linestyle=\"--\")\n",
    "ax.axhline(2*np.sqrt(2), color=\"k\", linestyle=\"-.\", label=\"quantum bounds\")\n",
    "ax.axhline(-2*np.sqrt(2), color=\"k\", linestyle=\"-.\")\n",
    "\n",
    "ax.plot(THETA_VALUES, w1_ideal, label = 'ideal')\n",
    "ax.plot(THETA_VALUES, w2_ideal)#, label = 'ideal')\n",
    "\n",
    "# ax.plot(THETA_VALUES, w1_raw, 'x--', c='C0', label = 'raw')\n",
    "# ax.plot(THETA_VALUES, w2_raw, 'x--', c='C1')#, label = 'raw')\n",
    "\n",
    "# ax.plot(THETA_VALUES, w1_corrected, '+:', c='C0', label = 'corrected')\n",
    "# ax.plot(THETA_VALUES, w2_corrected, '+:', c='C1')#, label = 'corrected')\n",
    "ax.legend()\n",
    "\n",
    "ax.set_xlabel('$\\\\theta$')\n",
    "ax.set_ylabel('witness 1 (blue), witness 2 (red)')\n"
   ]
  }
 ],
 "metadata": {
  "kernelspec": {
   "display_name": "LastMile",
   "language": "python",
   "name": "python3"
  },
  "language_info": {
   "codemirror_mode": {
    "name": "ipython",
    "version": 3
   },
   "file_extension": ".py",
   "mimetype": "text/x-python",
   "name": "python",
   "nbconvert_exporter": "python",
   "pygments_lexer": "ipython3",
   "version": "3.10.13"
  }
 },
 "nbformat": 4,
 "nbformat_minor": 2
}
