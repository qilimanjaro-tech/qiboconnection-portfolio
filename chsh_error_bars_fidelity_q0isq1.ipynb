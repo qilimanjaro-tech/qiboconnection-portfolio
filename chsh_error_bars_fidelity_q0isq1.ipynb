{
 "cells": [
  {
   "cell_type": "code",
   "execution_count": 1,
   "metadata": {},
   "outputs": [],
   "source": [
    "import matplotlib.pyplot as plt\n",
    "import numpy as np\n",
    "from qibo.gates import M, X, RY, CZ, I, H\n",
    "from qibo.models import Circuit\n",
    "from qiboconnection.api import API\n",
    "import matplotlib.pyplot as plt\n",
    "\n",
    "from qiboconnection.connection import ConnectionConfiguration\n",
    "\n",
    "from benchmarks.utils.qst_qpt_helper_functions import process_returned_dataformat\n",
    "from time import sleep\n",
    "\n",
    "from itertools import product\n",
    "from scipy.stats import multivariate_normal\n",
    "api = API(ConnectionConfiguration(username=\"vsanchez\", api_key=\"ea712370-7516-4cbf-91a6-72a82e39ba02\"))\n",
    "from scipy import stats\n",
    "\n",
    "api.select_device_id(9)"
   ]
  },
  {
   "cell_type": "code",
   "execution_count": 2,
   "metadata": {},
   "outputs": [],
   "source": [
    "def get_chsh_circuits(bell_state, control_qubit, target_qubit, theta):\n",
    "    assert bell_state in (\n",
    "        \"phi_plus\",\n",
    "        \"phi_minus\",\n",
    "        \"psi_plus\",\n",
    "        \"psi_minus\",\n",
    "    ), \"bell_state should be phi_plus, phi_minus, psi_plus, psi_minus\"\n",
    "    nqubits = max(control_qubit, target_qubit) + 1\n",
    "\n",
    "    circuits = []\n",
    "    for gate_a, gate_b in product([I, H], repeat=2):\n",
    "        circuit = Circuit(nqubits)\n",
    "\n",
    "        if bell_state == \"phi_plus\" or bell_state == \"psi_minus\":\n",
    "            G1 = RY(control_qubit, theta=-np.pi / 2)\n",
    "        else:\n",
    "            G1 = RY(control_qubit, theta=np.pi / 2)\n",
    "        if bell_state == \"phi_plus\" or bell_state == \"phi_minus\":\n",
    "            G2_prime = RY(target_qubit, theta=-np.pi / 2)\n",
    "        else:\n",
    "            G2_prime = RY(target_qubit, theta=np.pi / 2)\n",
    "        ## build bell state\n",
    "        circuit.add(G1)\n",
    "        circuit.add(RY(target_qubit, theta=np.pi / 2))\n",
    "        circuit.add(CZ(control_qubit, target_qubit))\n",
    "        circuit.add(G2_prime)\n",
    "\n",
    "        ## decoder part\n",
    "        circuit.add(RY(control_qubit, theta=theta))\n",
    "        circuit.add(gate_a(control_qubit))\n",
    "        circuit.add(gate_b(target_qubit))\n",
    "        circuit.add(M(control_qubit, target_qubit))\n",
    "\n",
    "        circuits.append(circuit)\n",
    "\n",
    "    return circuits\n",
    "\n",
    "\n",
    "def SPAM_circuits(control_qubit, target_qubit):\n",
    "    \"\"\"Circuits to get the SPAM matrix in order to perform measurement correction.\"\"\"\n",
    "    calibration_circuits = []\n",
    "    for gate_a, gate_b in product([I, X], repeat=2):\n",
    "        calibration_circuit = Circuit(5)\n",
    "        calibration_circuit.add(gate_a(control_qubit))\n",
    "        calibration_circuit.add(gate_b(target_qubit))\n",
    "        calibration_circuit.add(M(control_qubit, target_qubit))\n",
    "\n",
    "        calibration_circuits.append(calibration_circuit)\n",
    "    return calibration_circuits\n",
    "\n",
    "\n",
    "def compute_witnesses(chsh_results, measurement_calibration_weights, BELL_STATE, raw=False):\n",
    "    \"\"\"Returns arrays of computed witness values.\n",
    "\n",
    "    Args:\n",
    "        chsh_results (array): matrix containing the probabilities the chsh circuits. It must be\n",
    "                        of dimensions len(theta_values) x 4 (decoder circuits) x 4 (probabilities)\n",
    "        measurement_calibration_weights (array): measurement calibration matrix.\n",
    "        BELL_STATE (string): can be \"phi_plus\", \"phi_minus\", \"psi_plus\" or \"psi_minus\". It needs\n",
    "                            to be specified because the witness isn't the same for all 4 Bell states.\n",
    "        raw (bool): whether or not calculate the witnesses from the raw data instead of applying the\n",
    "                    measurement corrections. Defaults to False.\n",
    "    Returns:\n",
    "        witness1 (array): array length len(theta_values) containing the first witness\n",
    "        witness2 (array): array length len(theta_values) containing the second witness\n",
    "    \"\"\"\n",
    "    len_theta_values = np.shape(chsh_results)[0]\n",
    "    witness1 = np.zeros(len_theta_values)\n",
    "    witness2 = np.zeros(len_theta_values)\n",
    "\n",
    "    if BELL_STATE in [\"phi_plus\", \"psi_minus\"]:\n",
    "        signs1 = np.array([1, 1, -1, 1])\n",
    "        signs2 = np.array([1, -1, 1, 1])\n",
    "    else:\n",
    "        signs1 = np.array([-1, 1, 1, 1])\n",
    "        signs2 = np.array([1, 1, 1, -1])\n",
    "\n",
    "    for i, chsh_result in enumerate(chsh_results):\n",
    "        if raw is not True:\n",
    "            # apply measurement calibration\n",
    "            chsh_result = measurement_calibration_weights @ chsh_result.T\n",
    "            # calculate expectation values from probabilities\n",
    "            expectations = np.array([1, -1, -1, 1]).T @ chsh_result\n",
    "\n",
    "        else:\n",
    "            # calculate expectation values from probabilities\n",
    "            expectations = chsh_result @ np.array([1, -1, -1, 1])\n",
    "        # compute witnesses\n",
    "        witness1[i] = signs1.T @ expectations\n",
    "        witness2[i] = signs2.T @ expectations\n",
    "    return witness1, witness2"
   ]
  },
  {
   "cell_type": "code",
   "execution_count": 3,
   "metadata": {},
   "outputs": [],
   "source": [
    "CONTROL_QUBIT = 2\n",
    "TARGET_QUBIT = 0\n",
    "THETA_VALUES = np.linspace(-np.pi, np.pi, num=20)\n",
    "BELL_STATE = \"psi_minus\"\n",
    "\n",
    "NUM_SHOTS = 8000"
   ]
  },
  {
   "cell_type": "markdown",
   "metadata": {},
   "source": [
    "### Build circuits for CHSH and measurement correction"
   ]
  },
  {
   "cell_type": "code",
   "execution_count": 4,
   "metadata": {},
   "outputs": [],
   "source": [
    "all_circuits_chsh = []\n",
    "for theta in THETA_VALUES:\n",
    "    circuits_th = get_chsh_circuits(BELL_STATE, CONTROL_QUBIT, TARGET_QUBIT, theta)\n",
    "    all_circuits_chsh.extend(circuits_th)\n",
    "\n",
    "all_circuits = SPAM_circuits(CONTROL_QUBIT, TARGET_QUBIT)\n",
    "\n",
    "all_circuits.extend(all_circuits_chsh)"
   ]
  },
  {
   "cell_type": "markdown",
   "metadata": {},
   "source": [
    "### Run circuits"
   ]
  },
  {
   "cell_type": "code",
   "execution_count": 5,
   "metadata": {},
   "outputs": [],
   "source": [
    "# result_id = api.execute(all_circuits, nshots=NUM_SHOTS)[0]\n",
    "result_id = 8695"
   ]
  },
  {
   "cell_type": "code",
   "execution_count": 6,
   "metadata": {},
   "outputs": [],
   "source": [
    "# results = None\n",
    "# while results is None:\n",
    "#     results = api.get_result(result_id)\n",
    "#     sleep(30)\n",
    "# results"
   ]
  },
  {
   "cell_type": "markdown",
   "metadata": {},
   "source": [
    "### Process real data"
   ]
  },
  {
   "cell_type": "code",
   "execution_count": 7,
   "metadata": {},
   "outputs": [
    {
     "name": "stderr",
     "output_type": "stream",
     "text": [
      "Your job with id 8695 is completed.\n"
     ]
    }
   ],
   "source": [
    "## retrieve data\n",
    "results = api.get_result(result_id)\n",
    "data_probabilities = process_returned_dataformat(results, nqubits=2)\n",
    "\n",
    "## measurement calibration data processing\n",
    "spam_data_probabilities = data_probabilities[:4]\n",
    "measurement_calibration_weights = np.linalg.inv(spam_data_probabilities)\n",
    "\n",
    "## chsh circuits data processing\n",
    "chsh_data_probabilities = data_probabilities[4:]\n",
    "chsh_data_probabilities_theta = chsh_data_probabilities.reshape(len(THETA_VALUES), 4, 4)\n",
    "\n",
    "\n",
    "## compute witness\n",
    "w1_raw, w2_raw = compute_witnesses(chsh_data_probabilities_theta, measurement_calibration_weights, BELL_STATE, raw=True)\n",
    "w1_corrected, w2_corrected = compute_witnesses(\n",
    "    chsh_data_probabilities_theta, measurement_calibration_weights, BELL_STATE, raw=False\n",
    ")"
   ]
  },
  {
   "cell_type": "markdown",
   "metadata": {},
   "source": [
    "### Run simulation, get ideal witnesses"
   ]
  },
  {
   "cell_type": "code",
   "execution_count": 8,
   "metadata": {},
   "outputs": [
    {
     "name": "stderr",
     "output_type": "stream",
     "text": [
      "[Qibo 0.1.12.dev0|INFO|2024-02-29 16:06:52]: Using numpy backend on /CPU:0\n"
     ]
    }
   ],
   "source": [
    "circ_list = SPAM_circuits(0, 1)\n",
    "ideal_results_spam = np.zeros((len(circ_list), 4))\n",
    "for i, c in enumerate(circ_list):\n",
    "    ideal_results_spam[i] += c.execute().probabilities()\n",
    "ideal_measurement_calibration_weights = np.linalg.inv(ideal_results_spam)\n",
    "\n",
    "circ_list = list(np.copy(all_circuits_chsh))\n",
    "ideal_results_chsh = np.zeros((len(circ_list), 4))\n",
    "for i, c in enumerate(circ_list):\n",
    "    ideal_results_chsh[i] += c.execute().probabilities()\n",
    "\n",
    "ideal_results_chsh_theta = ideal_results_chsh.reshape(len(THETA_VALUES), 4, 4)\n",
    "\n",
    "w1_ideal, w2_ideal = compute_witnesses(\n",
    "    ideal_results_chsh_theta, ideal_measurement_calibration_weights, BELL_STATE, raw=False\n",
    ")"
   ]
  },
  {
   "cell_type": "markdown",
   "metadata": {},
   "source": [
    "### Get error bars"
   ]
  },
  {
   "cell_type": "code",
   "execution_count": 9,
   "metadata": {},
   "outputs": [
    {
     "data": {
      "text/plain": [
       "643"
      ]
     },
     "execution_count": 9,
     "metadata": {},
     "output_type": "execute_result"
    }
   ],
   "source": [
    "stats.binom.rvs(stats.multinomial.rvs(NUM_SHOTS, data_probabilities[i])[0], 0.2)"
   ]
  },
  {
   "cell_type": "code",
   "execution_count": 10,
   "metadata": {},
   "outputs": [
    {
     "data": {
      "text/plain": [
       "array([0.8 , 0.16, 0.16, 0.04])"
      ]
     },
     "execution_count": 10,
     "metadata": {},
     "output_type": "execute_result"
    }
   ],
   "source": [
    "e0 = 0.8 # fidelity 0 readout\n",
    "e1 = 0.8 # fidelity 1 readout\n",
    "e_m = np.array([[e0, e0*(1-e0), e0*(1-e0), (1-e0)**2],\n",
    "                [e0*(1-e1),e1*e0,(1-e1)*(1-e0),e1*(1-e0)],\n",
    "                [e0*(1-e1),(1-e1)*(1-e0),e1*e0,e1*(1-e0)],\n",
    "                [(1-e1)**2,e1*(1-e0),e1*(1-e0),e1**2]\n",
    "                ])\n",
    "\n",
    "np.array([1,0,0,0]) @ e_m"
   ]
  },
  {
   "cell_type": "code",
   "execution_count": 11,
   "metadata": {},
   "outputs": [
    {
     "data": {
      "text/plain": [
       "array([2960.44, 1677.8 , 1658.  , 2205.2 ])"
      ]
     },
     "execution_count": 11,
     "metadata": {},
     "output_type": "execute_result"
    }
   ],
   "source": [
    "stats.multinomial.rvs(NUM_SHOTS, data_probabilities[i]) @ e_m"
   ]
  },
  {
   "cell_type": "code",
   "execution_count": 12,
   "metadata": {},
   "outputs": [],
   "source": [
    "def return_mock_results(data_probabilities, e0=1, e1=1):\n",
    "    # returns simulated results using distribution from experimental results' probabilities\n",
    "    mock_results = np.empty(shape=data_probabilities.shape)\n",
    "    # measurement_calibration_weights = np.linalg.inv(data_probabilities[:4])\n",
    "\n",
    "    e_m = np.array([[e0**2, e0*(1-e0), e0*(1-e0), (1-e0)**2],\n",
    "                    [e0*(1-e1),e1*e0,(1-e1)*(1-e0),e1*(1-e0)],\n",
    "                    [e0*(1-e1),(1-e1)*(1-e0),e1*e0,e1*(1-e0)],\n",
    "                    [(1-e1)**2,e1*(1-e0),e1*(1-e0),e1**2]])\n",
    "    \n",
    "    for i, _ in enumerate(mock_results):    \n",
    "        mock_results[i] = (stats.multinomial.rvs(NUM_SHOTS, data_probabilities[i]) / NUM_SHOTS) @ e_m\n",
    "\n",
    "    measurement_calibration_weights = np.linalg.inv(data_probabilities[:4])\n",
    "    mock_results = mock_results[4:]\n",
    "\n",
    "\n",
    "    return list((compute_witnesses(mock_results.reshape(-1, 4, 4), measurement_calibration_weights, BELL_STATE, raw=False) +\n",
    "            compute_witnesses(mock_results.reshape(-1, 4, 4), measurement_calibration_weights, BELL_STATE, raw=True)))\n",
    "    \n",
    "def get_err_bars(mock_results):\n",
    "    data_hist = np.stack(mock_results)\n",
    "    err_bars = np.empty(len(data_hist.T))\n",
    "    for i, hist in enumerate(data_hist.T):\n",
    "        _ , var = stats.norm.fit(hist)\n",
    "        err_bars[i] =np.sqrt(var)\n",
    "    return err_bars\n",
    "\n",
    "# generate n copies of random results\n",
    "err_w1, err_w2, err_w1_unc, err_w2_unc  = [get_err_bars(mock_results) for mock_results in zip(*[return_mock_results(data_probabilities) for _ in range(800)])]"
   ]
  },
  {
   "cell_type": "markdown",
   "metadata": {},
   "source": [
    "### Plot results"
   ]
  },
  {
   "cell_type": "code",
   "execution_count": 13,
   "metadata": {},
   "outputs": [
    {
     "data": {
      "text/plain": [
       "(array([ 1.,  0.,  3.,  0.,  1.,  6.,  4.,  4.,  6.,  4.,  8., 11., 16.,\n",
       "        26., 21., 31., 33., 38., 40., 48., 46., 56., 46., 56., 49., 47.,\n",
       "        39., 52., 46., 44., 37., 33., 22., 22., 17., 18., 20., 10., 12.,\n",
       "         5.,  6.,  3.,  6.,  4.,  1.,  0.,  0.,  1.,  0.,  1.]),\n",
       " array([0.87002345, 0.87212179, 0.87422013, 0.87631847, 0.87841681,\n",
       "        0.88051515, 0.88261349, 0.88471183, 0.88681017, 0.88890851,\n",
       "        0.89100686, 0.8931052 , 0.89520354, 0.89730188, 0.89940022,\n",
       "        0.90149856, 0.9035969 , 0.90569524, 0.90779358, 0.90989192,\n",
       "        0.91199026, 0.9140886 , 0.91618694, 0.91828529, 0.92038363,\n",
       "        0.92248197, 0.92458031, 0.92667865, 0.92877699, 0.93087533,\n",
       "        0.93297367, 0.93507201, 0.93717035, 0.93926869, 0.94136703,\n",
       "        0.94346537, 0.94556372, 0.94766206, 0.9497604 , 0.95185874,\n",
       "        0.95395708, 0.95605542, 0.95815376, 0.9602521 , 0.96235044,\n",
       "        0.96444878, 0.96654712, 0.96864546, 0.9707438 , 0.97284215,\n",
       "        0.97494049]),\n",
       " <BarContainer object of 50 artists>)"
      ]
     },
     "execution_count": 13,
     "metadata": {},
     "output_type": "execute_result"
    },
    {
     "data": {
      "image/png": "[encoded data removed]",
      "text/plain": [
       "<Figure size 640x480 with 1 Axes>"
      ]
     },
     "metadata": {},
     "output_type": "display_data"
    }
   ],
   "source": [
    "plt.hist(np.array([return_mock_results(data_probabilities)[0][0] for _ in range(1000)]), bins=50)\n",
    "plt.hist(np.array([return_mock_results(data_probabilities, e0=0.8, e1=0.8)[0][0] for _ in range(1000)]), bins=50)\n"
   ]
  },
  {
   "cell_type": "code",
   "execution_count": 14,
   "metadata": {},
   "outputs": [],
   "source": [
    "a0= [err_w1, err_w2, err_w1_unc, err_w2_unc]"
   ]
  },
  {
   "cell_type": "code",
   "execution_count": 15,
   "metadata": {},
   "outputs": [
    {
     "data": {
      "image/png": "[encoded data removed]",
      "text/plain": [
       "<Figure size 640x480 with 1 Axes>"
      ]
     },
     "metadata": {},
     "output_type": "display_data"
    }
   ],
   "source": [
    "fname = f\"chsh_{CONTROL_QUBIT}_{TARGET_QUBIT}_{BELL_STATE}_nshots{NUM_SHOTS}_jobid{result_id}.png\"\n",
    "savefig = False\n",
    "\n",
    "fig, ax = plt.subplots()\n",
    "ax.axhline(2, color=\"red\", linestyle=\"--\", label=\"classical bounds\")\n",
    "ax.axhline(-2, color=\"red\", linestyle=\"--\")\n",
    "ax.axhline(2 * np.sqrt(2), color=\"k\", linestyle=\"-.\", label=\"quantum bounds\")\n",
    "ax.axhline(-2 * np.sqrt(2), color=\"k\", linestyle=\"-.\")\n",
    "\n",
    "ax.plot(THETA_VALUES, w1_ideal, label=\"ideal\")\n",
    "# ax.plot(THETA_VALUES, w2_ideal)\n",
    "\n",
    "# ax.plot(THETA_VALUES, w1_raw, \"x\", ms=3, c=\"C0\", label=\"raw\")\n",
    "# ax.errorbar(THETA_VALUES, w1_raw, err_w1_unc, capsize=3, c=\"C0\", ls=\"none\")\n",
    "\n",
    "# ax.plot(THETA_VALUES, w2_raw, \"x\", ms=3, c=\"C1\")\n",
    "# ax.errorbar(THETA_VALUES, w2_raw, err_w2_unc, capsize=3, c=\"C1\", ls=\"none\")\n",
    "\n",
    "ax.plot(THETA_VALUES, np.mean([return_mock_results(data_probabilities, e0=0.8, e1=0.8)[0] for _ in range(200)], axis=0), \".\", c=\"orange\", label=\"corrected\")\n",
    "\n",
    "ax.plot(THETA_VALUES, w1_corrected, \".\", c=\"C0\", label=\"corrected\")\n",
    "ax.errorbar(THETA_VALUES, w1_corrected, err_w1, capsize=3, c=\"C0\", ls=\"none\")\n",
    "ax.errorbar(THETA_VALUES, w1_corrected, a0[0], capsize=3, c=\"orange\", ls=\"none\")\n",
    "\n",
    "\n",
    "\n",
    "# ax.plot(THETA_VALUES, w2_corrected, \".\", c=\"C1\")\n",
    "# ax.errorbar(THETA_VALUES, w2_corrected, err_w2, capsize=3, c=\"C1\", ls=\"none\")\n",
    "\n",
    "ax.legend()\n",
    "\n",
    "ax.set_xlabel(\"$\\\\theta$\")\n",
    "ax.set_ylabel(\"witness 1 (blue), witness 2 (orange)\")\n",
    "\n",
    "ax.set_title(f\"({CONTROL_QUBIT}, {TARGET_QUBIT}), bell: {BELL_STATE}\")\n",
    "if savefig:\n",
    "    fig.savefig(fname, bbox_inches=\"tight\")"
   ]
  },
  {
   "cell_type": "code",
   "execution_count": null,
   "metadata": {},
   "outputs": [],
   "source": []
  }
 ],
 "metadata": {
  "kernelspec": {
   "display_name": "LastMile",
   "language": "python",
   "name": "python3"
  },
  "language_info": {
   "codemirror_mode": {
    "name": "ipython",
    "version": 3
   },
   "file_extension": ".py",
   "mimetype": "text/x-python",
   "name": "python",
   "nbconvert_exporter": "python",
   "pygments_lexer": "ipython3",
   "version": "3.10.12"
  }
 },
 "nbformat": 4,
 "nbformat_minor": 2
}
